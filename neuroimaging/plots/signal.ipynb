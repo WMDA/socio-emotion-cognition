{
 "cells": [
  {
   "cell_type": "markdown",
   "metadata": {},
   "source": [
    "Note book to check over FMRI signal"
   ]
  },
  {
   "cell_type": "code",
   "execution_count": null,
   "id": "56b79772",
   "metadata": {},
   "outputs": [],
   "source": [
    "import matplotlib.pyplot as plt\n",
    "from nilearn import image as nimg\n",
    "from nilearn import plotting as nplot\n",
    "from bids.layout import BIDSLayout\n",
    "from statsmodels.graphics.tsaplots import plot_acf\n",
    "import numpy as np\n",
    "import decouple "
   ]
  },
  {
   "cell_type": "code",
   "execution_count": null,
   "metadata": {},
   "outputs": [],
   "source": [
    "config = decouple.AutoConfig(' ')\n",
    "fmriprep_location = config('happy_fmriprep_dir_2')\n",
    "layout = BIDSLayout(fmriprep_location, validate=False)"
   ]
  },
  {
   "cell_type": "code",
   "execution_count": null,
   "metadata": {},
   "outputs": [],
   "source": [
    "T2w = layout.get(subject='B1001', datatype='func', desc='preproc', space='MNI152NLin2009cAsym', extension='nii.gz', return_type='file')\n",
    "func = nimg.load_img(T2w)"
   ]
  },
  {
   "cell_type": "code",
   "execution_count": null,
   "metadata": {},
   "outputs": [],
   "source": [
    "single_vox = func.slicer[32:33, 64:65, 14:15, :].get_fdata()\n",
    "vox = single_vox.flatten()\n",
    "vox.shape"
   ]
  },
  {
   "cell_type": "code",
   "execution_count": null,
   "metadata": {},
   "outputs": [],
   "source": [
    "x_axis = np.arange(0, vox.shape[0])\n",
    "plt.plot( x_axis, vox, 'k')"
   ]
  },
  {
   "cell_type": "code",
   "execution_count": null,
   "metadata": {},
   "outputs": [],
   "source": [
    "plot_acf(vox)"
   ]
  }
 ],
 "metadata": {
  "language_info": {
   "name": "python"
  },
  "orig_nbformat": 4
 },
 "nbformat": 4,
 "nbformat_minor": 2
}
