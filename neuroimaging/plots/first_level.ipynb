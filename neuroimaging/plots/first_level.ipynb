{
 "cells": [
  {
   "cell_type": "code",
   "execution_count": 13,
   "metadata": {},
   "outputs": [],
   "source": [
    "from nilearn import image as nimg\n",
    "from nilearn import plotting as nplot\n",
    "from nilearn import masking\n",
    "import pandas as pd\n",
    "import decouple \n",
    "import os"
   ]
  },
  {
   "cell_type": "code",
   "execution_count": 18,
   "metadata": {},
   "outputs": [],
   "source": [
    "config = decouple.AutoConfig(' ')\n",
    "results_location = config('happy') + '/1stlevel/results'\n",
    "t2 = results_location + '/T2'\n",
    "t1 = results_location + '/T1'"
   ]
  },
  {
   "cell_type": "code",
   "execution_count": 19,
   "metadata": {},
   "outputs": [],
   "source": [
    "func = nimg.load_img(f'{t2}/sub-B2999/spmT_0001.nii')"
   ]
  },
  {
   "cell_type": "code",
   "execution_count": null,
   "metadata": {},
   "outputs": [],
   "source": [
    "nplot.view_img(func, bg_img=anat, cmap='BuPu', symmetric_cmap=False, opacity=0.7, threshold=\"auto\", cut_coords=(0, 0, 0)) "
   ]
  }
 ],
 "metadata": {
  "kernelspec": {
   "display_name": "neuroimaging",
   "language": "python",
   "name": "python3"
  },
  "language_info": {
   "codemirror_mode": {
    "name": "ipython",
    "version": 3
   },
   "file_extension": ".py",
   "mimetype": "text/x-python",
   "name": "python",
   "nbconvert_exporter": "python",
   "pygments_lexer": "ipython3",
   "version": "3.9.13"
  },
  "orig_nbformat": 4,
  "vscode": {
   "interpreter": {
    "hash": "5d1a98af6a242a3d1220cb58f6ee87a8a658ff80db10bdf2e9da647d04e7af7b"
   }
  }
 },
 "nbformat": 4,
 "nbformat_minor": 2
}
