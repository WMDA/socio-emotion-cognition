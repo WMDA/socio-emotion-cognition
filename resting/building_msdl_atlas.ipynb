{
 "cells": [
  {
   "cell_type": "code",
   "execution_count": 1,
   "metadata": {},
   "outputs": [],
   "source": [
    "from decouple import config\n",
    "import os\n",
    "import glob\n",
    "import pandas as pd\n",
    "from nilearn import datasets, plotting, image \n",
    "from nilearn.decomposition import DictLearning\n",
    "from nilearn.maskers import NiftiLabelsMasker\n",
    "from nilearn.connectome import ConnectivityMeasure\n",
    "from nilearn.interfaces.fmriprep import load_confounds_strategy\n",
    "import numpy as np"
   ]
  },
  {
   "cell_type": "code",
   "execution_count": 2,
   "metadata": {},
   "outputs": [],
   "source": [
    "resting_path: str = os.path.join(config('resting'), 'preprocessed')\n",
    "fmri_imgs = glob.glob(f'{resting_path}/*/func/*_task-rest_space-MNI152NLin2009cAsym_res-2_desc-preproc_bold.nii.gz')"
   ]
  },
  {
   "cell_type": "code",
   "execution_count": 8,
   "metadata": {},
   "outputs": [],
   "source": [
    "build_atlas = DictLearning(\n",
    "    smoothing_fwhm=None,\n",
    "    n_jobs=2\n",
    ")"
   ]
  },
  {
   "cell_type": "code",
   "execution_count": 9,
   "metadata": {},
   "outputs": [
    {
     "name": "stderr",
     "output_type": "stream",
     "text": [
      "/home/k1812017/.conda/envs/neuroimaging/lib/python3.10/site-packages/joblib/externals/loky/process_executor.py:700: UserWarning: A worker stopped while some jobs were given to the executor. This can be caused by a too short worker timeout or by a memory leak.\n",
      "  warnings.warn(\n",
      "/home/k1812017/.conda/envs/neuroimaging/lib/python3.10/site-packages/sklearn/decomposition/_fastica.py:322: FutureWarning: Starting in v1.3, whiten=True should be specified as whiten='arbitrary-variance' (its current behaviour). This behavior is deprecated in 1.1 and will raise ValueError in 1.3.\n",
      "  S = est._fit_transform(X, compute_sources=compute_sources)\n",
      "/home/k1812017/.conda/envs/neuroimaging/lib/python3.10/site-packages/sklearn/decomposition/_fastica.py:123: ConvergenceWarning: FastICA did not converge. Consider increasing tolerance or the maximum number of iterations.\n",
      "  warnings.warn(\n",
      "/home/k1812017/.conda/envs/neuroimaging/lib/python3.10/site-packages/sklearn/decomposition/_dict_learning.py:739: FutureWarning: 'n_iter' is deprecated in version 1.1 and will be removed in version 1.3. Use 'max_iter' instead.\n",
      "  warnings.warn(msg, FutureWarning)\n"
     ]
    },
    {
     "ename": "KeyboardInterrupt",
     "evalue": "",
     "output_type": "error",
     "traceback": [
      "\u001b[0;31m---------------------------------------------------------------------------\u001b[0m",
      "\u001b[0;31mKeyboardInterrupt\u001b[0m                         Traceback (most recent call last)",
      "\u001b[1;32m/data/project/BEACONB/task_fmri/building_msdl_atlas.ipynb Cell 4\u001b[0m line \u001b[0;36m1\n\u001b[0;32m----> <a href='vscode-notebook-cell://ssh-remote%2Bdesktop.nan.kcl.ac.uk/data/project/BEACONB/task_fmri/building_msdl_atlas.ipynb#W5sdnNjb2RlLXJlbW90ZQ%3D%3D?line=0'>1</a>\u001b[0m build_atlas\u001b[39m.\u001b[39;49mfit(fmri_imgs)\n",
      "File \u001b[0;32m~/.conda/envs/neuroimaging/lib/python3.10/site-packages/nilearn/decomposition/_base.py:420\u001b[0m, in \u001b[0;36m_BaseDecomposition.fit\u001b[0;34m(self, imgs, y, confounds)\u001b[0m\n\u001b[1;32m    412\u001b[0m     \u001b[39mprint\u001b[39m(\u001b[39m\"\u001b[39m\u001b[39m[\u001b[39m\u001b[39m{0}\u001b[39;00m\u001b[39m] Loading data\u001b[39m\u001b[39m\"\u001b[39m\u001b[39m.\u001b[39mformat(\u001b[39mself\u001b[39m\u001b[39m.\u001b[39m\u001b[39m__class__\u001b[39m\u001b[39m.\u001b[39m\u001b[39m__name__\u001b[39m))\n\u001b[1;32m    413\u001b[0m data \u001b[39m=\u001b[39m _mask_and_reduce(\n\u001b[1;32m    414\u001b[0m     \u001b[39mself\u001b[39m\u001b[39m.\u001b[39mmasker_, imgs, confounds\u001b[39m=\u001b[39mconfounds,\n\u001b[1;32m    415\u001b[0m     n_components\u001b[39m=\u001b[39m\u001b[39mself\u001b[39m\u001b[39m.\u001b[39mn_components,\n\u001b[0;32m   (...)\u001b[0m\n\u001b[1;32m    418\u001b[0m     memory_level\u001b[39m=\u001b[39m\u001b[39mmax\u001b[39m(\u001b[39m0\u001b[39m, \u001b[39mself\u001b[39m\u001b[39m.\u001b[39mmemory_level \u001b[39m+\u001b[39m \u001b[39m1\u001b[39m),\n\u001b[1;32m    419\u001b[0m     n_jobs\u001b[39m=\u001b[39m\u001b[39mself\u001b[39m\u001b[39m.\u001b[39mn_jobs)\n\u001b[0;32m--> 420\u001b[0m \u001b[39mself\u001b[39;49m\u001b[39m.\u001b[39;49m_raw_fit(data)\n\u001b[1;32m    422\u001b[0m \u001b[39m# Create and fit NiftiMapsMasker for transform\u001b[39;00m\n\u001b[1;32m    423\u001b[0m \u001b[39m# and inverse_transform\u001b[39;00m\n\u001b[1;32m    424\u001b[0m \u001b[39mself\u001b[39m\u001b[39m.\u001b[39mnifti_maps_masker_ \u001b[39m=\u001b[39m NiftiMapsMasker(\n\u001b[1;32m    425\u001b[0m     \u001b[39mself\u001b[39m\u001b[39m.\u001b[39mcomponents_img_,\n\u001b[1;32m    426\u001b[0m     \u001b[39mself\u001b[39m\u001b[39m.\u001b[39mmasker_\u001b[39m.\u001b[39mmask_img_,\n\u001b[1;32m    427\u001b[0m     resampling_target\u001b[39m=\u001b[39m\u001b[39m'\u001b[39m\u001b[39mmaps\u001b[39m\u001b[39m'\u001b[39m)\n",
      "File \u001b[0;32m~/.conda/envs/neuroimaging/lib/python3.10/site-packages/nilearn/decomposition/dict_learning.py:262\u001b[0m, in \u001b[0;36mDictLearning._raw_fit\u001b[0;34m(self, data)\u001b[0m\n\u001b[1;32m    260\u001b[0m \u001b[39mif\u001b[39;00m \u001b[39mself\u001b[39m\u001b[39m.\u001b[39mverbose:\n\u001b[1;32m    261\u001b[0m     \u001b[39mprint\u001b[39m(\u001b[39m'\u001b[39m\u001b[39m[DictLearning] Learning dictionary\u001b[39m\u001b[39m'\u001b[39m)\n\u001b[0;32m--> 262\u001b[0m \u001b[39mself\u001b[39m\u001b[39m.\u001b[39mcomponents_, _ \u001b[39m=\u001b[39m \u001b[39mself\u001b[39;49m\u001b[39m.\u001b[39;49m_cache(dict_learning_online)(\n\u001b[1;32m    263\u001b[0m     data\u001b[39m.\u001b[39;49mT, \u001b[39mself\u001b[39;49m\u001b[39m.\u001b[39;49mn_components, alpha\u001b[39m=\u001b[39;49m\u001b[39mself\u001b[39;49m\u001b[39m.\u001b[39;49malpha, n_iter\u001b[39m=\u001b[39;49mn_iter,\n\u001b[1;32m    264\u001b[0m     batch_size\u001b[39m=\u001b[39;49m\u001b[39mself\u001b[39;49m\u001b[39m.\u001b[39;49mbatch_size, method\u001b[39m=\u001b[39;49m\u001b[39mself\u001b[39;49m\u001b[39m.\u001b[39;49mmethod,\n\u001b[1;32m    265\u001b[0m     dict_init\u001b[39m=\u001b[39;49mdict_init, verbose\u001b[39m=\u001b[39;49m\u001b[39mmax\u001b[39;49m(\u001b[39m0\u001b[39;49m, \u001b[39mself\u001b[39;49m\u001b[39m.\u001b[39;49mverbose \u001b[39m-\u001b[39;49m \u001b[39m1\u001b[39;49m),\n\u001b[1;32m    266\u001b[0m     random_state\u001b[39m=\u001b[39;49m\u001b[39mself\u001b[39;49m\u001b[39m.\u001b[39;49mrandom_state, return_code\u001b[39m=\u001b[39;49m\u001b[39mTrue\u001b[39;49;00m, shuffle\u001b[39m=\u001b[39;49m\u001b[39mTrue\u001b[39;49;00m,\n\u001b[1;32m    267\u001b[0m     n_jobs\u001b[39m=\u001b[39;49m\u001b[39m1\u001b[39;49m)\n\u001b[1;32m    268\u001b[0m \u001b[39mself\u001b[39m\u001b[39m.\u001b[39mcomponents_ \u001b[39m=\u001b[39m \u001b[39mself\u001b[39m\u001b[39m.\u001b[39mcomponents_\u001b[39m.\u001b[39mT\n\u001b[1;32m    269\u001b[0m \u001b[39m# Unit-variance scaling\u001b[39;00m\n",
      "File \u001b[0;32m~/.conda/envs/neuroimaging/lib/python3.10/site-packages/joblib/memory.py:349\u001b[0m, in \u001b[0;36mNotMemorizedFunc.__call__\u001b[0;34m(self, *args, **kwargs)\u001b[0m\n\u001b[1;32m    348\u001b[0m \u001b[39mdef\u001b[39;00m \u001b[39m__call__\u001b[39m(\u001b[39mself\u001b[39m, \u001b[39m*\u001b[39margs, \u001b[39m*\u001b[39m\u001b[39m*\u001b[39mkwargs):\n\u001b[0;32m--> 349\u001b[0m     \u001b[39mreturn\u001b[39;00m \u001b[39mself\u001b[39;49m\u001b[39m.\u001b[39;49mfunc(\u001b[39m*\u001b[39;49margs, \u001b[39m*\u001b[39;49m\u001b[39m*\u001b[39;49mkwargs)\n",
      "File \u001b[0;32m~/.conda/envs/neuroimaging/lib/python3.10/site-packages/sklearn/decomposition/_dict_learning.py:1089\u001b[0m, in \u001b[0;36mdict_learning_online\u001b[0;34m(X, n_components, alpha, n_iter, max_iter, return_code, dict_init, callback, batch_size, verbose, shuffle, n_jobs, method, iter_offset, random_state, return_inner_stats, inner_stats, return_n_iter, positive_dict, positive_code, method_max_iter, tol, max_no_improvement)\u001b[0m\n\u001b[1;32m   1084\u001b[0m     \u001b[39mif\u001b[39;00m verbose \u001b[39m>\u001b[39m \u001b[39m10\u001b[39m \u001b[39mor\u001b[39;00m ii \u001b[39m%\u001b[39m ceil(\u001b[39m100.0\u001b[39m \u001b[39m/\u001b[39m verbose) \u001b[39m==\u001b[39m \u001b[39m0\u001b[39m:\n\u001b[1;32m   1085\u001b[0m         \u001b[39mprint\u001b[39m(\n\u001b[1;32m   1086\u001b[0m             \u001b[39m\"\u001b[39m\u001b[39mIteration \u001b[39m\u001b[39m% 3i\u001b[39;00m\u001b[39m (elapsed time: \u001b[39m\u001b[39m% 3i\u001b[39;00m\u001b[39ms, \u001b[39m\u001b[39m% 4.1f\u001b[39;00m\u001b[39mmn)\u001b[39m\u001b[39m\"\u001b[39m \u001b[39m%\u001b[39m (ii, dt, dt \u001b[39m/\u001b[39m \u001b[39m60\u001b[39m)\n\u001b[1;32m   1087\u001b[0m         )\n\u001b[0;32m-> 1089\u001b[0m this_code \u001b[39m=\u001b[39m sparse_encode(\n\u001b[1;32m   1090\u001b[0m     this_X,\n\u001b[1;32m   1091\u001b[0m     dictionary,\n\u001b[1;32m   1092\u001b[0m     algorithm\u001b[39m=\u001b[39;49mmethod,\n\u001b[1;32m   1093\u001b[0m     alpha\u001b[39m=\u001b[39;49malpha,\n\u001b[1;32m   1094\u001b[0m     n_jobs\u001b[39m=\u001b[39;49mn_jobs,\n\u001b[1;32m   1095\u001b[0m     check_input\u001b[39m=\u001b[39;49m\u001b[39mFalse\u001b[39;49;00m,\n\u001b[1;32m   1096\u001b[0m     positive\u001b[39m=\u001b[39;49mpositive_code,\n\u001b[1;32m   1097\u001b[0m     max_iter\u001b[39m=\u001b[39;49mmethod_max_iter,\n\u001b[1;32m   1098\u001b[0m     verbose\u001b[39m=\u001b[39;49mverbose,\n\u001b[1;32m   1099\u001b[0m )\n\u001b[1;32m   1101\u001b[0m \u001b[39m# Update the auxiliary variables\u001b[39;00m\n\u001b[1;32m   1102\u001b[0m \u001b[39mif\u001b[39;00m ii \u001b[39m<\u001b[39m batch_size \u001b[39m-\u001b[39m \u001b[39m1\u001b[39m:\n",
      "File \u001b[0;32m~/.conda/envs/neuroimaging/lib/python3.10/site-packages/sklearn/decomposition/_dict_learning.py:378\u001b[0m, in \u001b[0;36msparse_encode\u001b[0;34m(X, dictionary, gram, cov, algorithm, n_nonzero_coefs, alpha, copy_cov, init, max_iter, n_jobs, check_input, verbose, positive)\u001b[0m\n\u001b[1;32m    375\u001b[0m         regularization \u001b[39m=\u001b[39m \u001b[39m1.0\u001b[39m\n\u001b[1;32m    377\u001b[0m \u001b[39mif\u001b[39;00m effective_n_jobs(n_jobs) \u001b[39m==\u001b[39m \u001b[39m1\u001b[39m \u001b[39mor\u001b[39;00m algorithm \u001b[39m==\u001b[39m \u001b[39m\"\u001b[39m\u001b[39mthreshold\u001b[39m\u001b[39m\"\u001b[39m:\n\u001b[0;32m--> 378\u001b[0m     code \u001b[39m=\u001b[39m _sparse_encode(\n\u001b[1;32m    379\u001b[0m         X,\n\u001b[1;32m    380\u001b[0m         dictionary,\n\u001b[1;32m    381\u001b[0m         gram,\n\u001b[1;32m    382\u001b[0m         cov\u001b[39m=\u001b[39;49mcov,\n\u001b[1;32m    383\u001b[0m         algorithm\u001b[39m=\u001b[39;49malgorithm,\n\u001b[1;32m    384\u001b[0m         regularization\u001b[39m=\u001b[39;49mregularization,\n\u001b[1;32m    385\u001b[0m         copy_cov\u001b[39m=\u001b[39;49mcopy_cov,\n\u001b[1;32m    386\u001b[0m         init\u001b[39m=\u001b[39;49minit,\n\u001b[1;32m    387\u001b[0m         max_iter\u001b[39m=\u001b[39;49mmax_iter,\n\u001b[1;32m    388\u001b[0m         check_input\u001b[39m=\u001b[39;49m\u001b[39mFalse\u001b[39;49;00m,\n\u001b[1;32m    389\u001b[0m         verbose\u001b[39m=\u001b[39;49mverbose,\n\u001b[1;32m    390\u001b[0m         positive\u001b[39m=\u001b[39;49mpositive,\n\u001b[1;32m    391\u001b[0m     )\n\u001b[1;32m    392\u001b[0m     \u001b[39mreturn\u001b[39;00m code\n\u001b[1;32m    394\u001b[0m \u001b[39m# Enter parallel code block\u001b[39;00m\n",
      "File \u001b[0;32m~/.conda/envs/neuroimaging/lib/python3.10/site-packages/sklearn/decomposition/_dict_learning.py:186\u001b[0m, in \u001b[0;36m_sparse_encode\u001b[0;34m(X, dictionary, gram, cov, algorithm, regularization, copy_cov, init, max_iter, check_input, verbose, positive)\u001b[0m\n\u001b[1;32m    183\u001b[0m             init \u001b[39m=\u001b[39m np\u001b[39m.\u001b[39marray(init)\n\u001b[1;32m    184\u001b[0m         clf\u001b[39m.\u001b[39mcoef_ \u001b[39m=\u001b[39m init\n\u001b[0;32m--> 186\u001b[0m     clf\u001b[39m.\u001b[39;49mfit(dictionary\u001b[39m.\u001b[39;49mT, X\u001b[39m.\u001b[39;49mT, check_input\u001b[39m=\u001b[39;49mcheck_input)\n\u001b[1;32m    187\u001b[0m     new_code \u001b[39m=\u001b[39m clf\u001b[39m.\u001b[39mcoef_\n\u001b[1;32m    189\u001b[0m \u001b[39melif\u001b[39;00m algorithm \u001b[39m==\u001b[39m \u001b[39m\"\u001b[39m\u001b[39mlars\u001b[39m\u001b[39m\"\u001b[39m:\n",
      "File \u001b[0;32m~/.conda/envs/neuroimaging/lib/python3.10/site-packages/sklearn/linear_model/_coordinate_descent.py:892\u001b[0m, in \u001b[0;36mElasticNet.fit\u001b[0;34m(self, X, y, sample_weight, check_input)\u001b[0m\n\u001b[1;32m    856\u001b[0m \u001b[39mdef\u001b[39;00m \u001b[39mfit\u001b[39m(\u001b[39mself\u001b[39m, X, y, sample_weight\u001b[39m=\u001b[39m\u001b[39mNone\u001b[39;00m, check_input\u001b[39m=\u001b[39m\u001b[39mTrue\u001b[39;00m):\n\u001b[1;32m    857\u001b[0m \u001b[39m    \u001b[39m\u001b[39m\"\"\"Fit model with coordinate descent.\u001b[39;00m\n\u001b[1;32m    858\u001b[0m \n\u001b[1;32m    859\u001b[0m \u001b[39m    Parameters\u001b[39;00m\n\u001b[0;32m   (...)\u001b[0m\n\u001b[1;32m    890\u001b[0m \u001b[39m    initial data in memory directly using that format.\u001b[39;00m\n\u001b[1;32m    891\u001b[0m \u001b[39m    \"\"\"\u001b[39;00m\n\u001b[0;32m--> 892\u001b[0m     \u001b[39mself\u001b[39;49m\u001b[39m.\u001b[39;49m_validate_params()\n\u001b[1;32m    894\u001b[0m     \u001b[39mif\u001b[39;00m \u001b[39mself\u001b[39m\u001b[39m.\u001b[39malpha \u001b[39m==\u001b[39m \u001b[39m0\u001b[39m:\n\u001b[1;32m    895\u001b[0m         warnings\u001b[39m.\u001b[39mwarn(\n\u001b[1;32m    896\u001b[0m             \u001b[39m\"\u001b[39m\u001b[39mWith alpha=0, this algorithm does not converge \u001b[39m\u001b[39m\"\u001b[39m\n\u001b[1;32m    897\u001b[0m             \u001b[39m\"\u001b[39m\u001b[39mwell. You are advised to use the LinearRegression \u001b[39m\u001b[39m\"\u001b[39m\n\u001b[1;32m    898\u001b[0m             \u001b[39m\"\u001b[39m\u001b[39mestimator\u001b[39m\u001b[39m\"\u001b[39m,\n\u001b[1;32m    899\u001b[0m             stacklevel\u001b[39m=\u001b[39m\u001b[39m2\u001b[39m,\n\u001b[1;32m    900\u001b[0m         )\n",
      "File \u001b[0;32m~/.conda/envs/neuroimaging/lib/python3.10/site-packages/sklearn/base.py:581\u001b[0m, in \u001b[0;36mBaseEstimator._validate_params\u001b[0;34m(self)\u001b[0m\n\u001b[1;32m    573\u001b[0m \u001b[39mdef\u001b[39;00m \u001b[39m_validate_params\u001b[39m(\u001b[39mself\u001b[39m):\n\u001b[1;32m    574\u001b[0m \u001b[39m    \u001b[39m\u001b[39m\"\"\"Validate types and values of constructor parameters\u001b[39;00m\n\u001b[1;32m    575\u001b[0m \n\u001b[1;32m    576\u001b[0m \u001b[39m    The expected type and values must be defined in the `_parameter_constraints`\u001b[39;00m\n\u001b[0;32m   (...)\u001b[0m\n\u001b[1;32m    579\u001b[0m \u001b[39m    accepted constraints.\u001b[39;00m\n\u001b[1;32m    580\u001b[0m \u001b[39m    \"\"\"\u001b[39;00m\n\u001b[0;32m--> 581\u001b[0m     validate_parameter_constraints(\n\u001b[1;32m    582\u001b[0m         \u001b[39mself\u001b[39;49m\u001b[39m.\u001b[39;49m_parameter_constraints,\n\u001b[1;32m    583\u001b[0m         \u001b[39mself\u001b[39;49m\u001b[39m.\u001b[39;49mget_params(deep\u001b[39m=\u001b[39;49m\u001b[39mFalse\u001b[39;49;00m),\n\u001b[1;32m    584\u001b[0m         caller_name\u001b[39m=\u001b[39;49m\u001b[39mself\u001b[39;49m\u001b[39m.\u001b[39;49m\u001b[39m__class__\u001b[39;49m\u001b[39m.\u001b[39;49m\u001b[39m__name__\u001b[39;49m,\n\u001b[1;32m    585\u001b[0m     )\n",
      "File \u001b[0;32m~/.conda/envs/neuroimaging/lib/python3.10/site-packages/sklearn/utils/_param_validation.py:77\u001b[0m, in \u001b[0;36mvalidate_parameter_constraints\u001b[0;34m(parameter_constraints, params, caller_name)\u001b[0m\n\u001b[1;32m     74\u001b[0m constraints \u001b[39m=\u001b[39m [make_constraint(constraint) \u001b[39mfor\u001b[39;00m constraint \u001b[39min\u001b[39;00m constraints]\n\u001b[1;32m     76\u001b[0m \u001b[39mfor\u001b[39;00m constraint \u001b[39min\u001b[39;00m constraints:\n\u001b[0;32m---> 77\u001b[0m     \u001b[39mif\u001b[39;00m constraint\u001b[39m.\u001b[39;49mis_satisfied_by(param_val):\n\u001b[1;32m     78\u001b[0m         \u001b[39m# this constraint is satisfied, no need to check further.\u001b[39;00m\n\u001b[1;32m     79\u001b[0m         \u001b[39mbreak\u001b[39;00m\n\u001b[1;32m     80\u001b[0m \u001b[39melse\u001b[39;00m:\n\u001b[1;32m     81\u001b[0m     \u001b[39m# No constraint is satisfied, raise with an informative message.\u001b[39;00m\n\u001b[1;32m     82\u001b[0m \n\u001b[1;32m     83\u001b[0m     \u001b[39m# Ignore constraints that we don't want to expose in the error message,\u001b[39;00m\n\u001b[1;32m     84\u001b[0m     \u001b[39m# i.e. options that are for internal purpose or not officially supported.\u001b[39;00m\n",
      "File \u001b[0;32m~/.conda/envs/neuroimaging/lib/python3.10/site-packages/sklearn/utils/_param_validation.py:538\u001b[0m, in \u001b[0;36m_Booleans.is_satisfied_by\u001b[0;34m(self, val)\u001b[0m\n\u001b[1;32m    531\u001b[0m     \u001b[39msuper\u001b[39m()\u001b[39m.\u001b[39m\u001b[39m__init__\u001b[39m()\n\u001b[1;32m    532\u001b[0m     \u001b[39mself\u001b[39m\u001b[39m.\u001b[39m_constraints \u001b[39m=\u001b[39m [\n\u001b[1;32m    533\u001b[0m         _InstancesOf(\u001b[39mbool\u001b[39m),\n\u001b[1;32m    534\u001b[0m         _InstancesOf(np\u001b[39m.\u001b[39mbool_),\n\u001b[1;32m    535\u001b[0m         _InstancesOf(Integral),\n\u001b[1;32m    536\u001b[0m     ]\n\u001b[0;32m--> 538\u001b[0m \u001b[39mdef\u001b[39;00m \u001b[39mis_satisfied_by\u001b[39m(\u001b[39mself\u001b[39m, val):\n\u001b[1;32m    539\u001b[0m     \u001b[39m# TODO(1.4) remove support for Integral.\u001b[39;00m\n\u001b[1;32m    540\u001b[0m     \u001b[39mif\u001b[39;00m \u001b[39misinstance\u001b[39m(val, Integral) \u001b[39mand\u001b[39;00m \u001b[39mnot\u001b[39;00m \u001b[39misinstance\u001b[39m(val, \u001b[39mbool\u001b[39m):\n\u001b[1;32m    541\u001b[0m         warnings\u001b[39m.\u001b[39mwarn(\n\u001b[1;32m    542\u001b[0m             \u001b[39m\"\u001b[39m\u001b[39mPassing an int for a boolean parameter is deprecated in version 1.2 \u001b[39m\u001b[39m\"\u001b[39m\n\u001b[1;32m    543\u001b[0m             \u001b[39m\"\u001b[39m\u001b[39mand won\u001b[39m\u001b[39m'\u001b[39m\u001b[39mt be supported anymore in version 1.4.\u001b[39m\u001b[39m\"\u001b[39m,\n\u001b[1;32m    544\u001b[0m             \u001b[39mFutureWarning\u001b[39;00m,\n\u001b[1;32m    545\u001b[0m         )\n",
      "\u001b[0;31mKeyboardInterrupt\u001b[0m: "
     ]
    }
   ],
   "source": [
    "build_atlas.fit(fmri_imgs)"
   ]
  },
  {
   "cell_type": "code",
   "execution_count": null,
   "metadata": {},
   "outputs": [],
   "source": []
  }
 ],
 "metadata": {
  "kernelspec": {
   "display_name": "neuroimaging",
   "language": "python",
   "name": "python3"
  },
  "language_info": {
   "codemirror_mode": {
    "name": "ipython",
    "version": 3
   },
   "file_extension": ".py",
   "mimetype": "text/x-python",
   "name": "python",
   "nbconvert_exporter": "python",
   "pygments_lexer": "ipython3",
   "version": "3.10.12"
  },
  "orig_nbformat": 4
 },
 "nbformat": 4,
 "nbformat_minor": 2
}
