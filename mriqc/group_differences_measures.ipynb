{
 "cells": [
  {
   "cell_type": "code",
   "execution_count": 1,
   "id": "1e3acb13",
   "metadata": {},
   "outputs": [],
   "source": [
    "import pandas as pd\n",
    "from scipy import stats\n",
    "import matplotlib.pyplot as plt\n",
    "import pingouin as pin"
   ]
  },
  {
   "cell_type": "code",
   "execution_count": 2,
   "id": "bdc63b8a",
   "metadata": {},
   "outputs": [],
   "source": [
    "def get_data(csv):\n",
    "    df = pd.read_csv(csv).drop('Unnamed: 0', axis=1)\n",
    "    hc = df[df['id'].str.contains('B1')]\n",
    "    aan = df[df['id'].str.contains('B2')]\n",
    "    \n",
    "    result = {\n",
    "        'df':df,\n",
    "        'aan':aan,\n",
    "        'hc':hc\n",
    "    }\n",
    "    \n",
    "    return result"
   ]
  },
  {
   "cell_type": "code",
   "execution_count": 3,
   "id": "c329c8e6",
   "metadata": {},
   "outputs": [],
   "source": [
    "happy_df = get_data('task_happy.csv')\n",
    "fear_df = get_data('task_fear.csv')\n",
    "eft_df = get_data('task_eft.csv')\n",
    "rest_df = get_data('task_rest.csv')\n",
    "anat_df = get_data('anat.csv')"
   ]
  },
  {
   "cell_type": "code",
   "execution_count": 4,
   "id": "5fe3aaee",
   "metadata": {},
   "outputs": [],
   "source": [
    "measures = ['snr', 'fd_mean', 'fd_num', 'fd_perc']\n",
    "dfs = [happy_df, fear_df, eft_df, rest_df]"
   ]
  },
  {
   "cell_type": "code",
   "execution_count": 5,
   "id": "79b52ad0",
   "metadata": {},
   "outputs": [],
   "source": [
    "t_test = {\n",
    "    'task':[],\n",
    "    'measure':[],\n",
    "    'df':[]\n",
    "}\n",
    "\n",
    "for df in dfs:\n",
    "    \n",
    "    assumptions = [measure for measure in measures if (stats.shapiro(df['hc'][measure])[1] > 0.05) and \n",
    "         (stats.shapiro(df['aan'][measure])[1] > 0.05) and \n",
    "         (stats.levene(df['hc'][measure], df['aan'][measure])[1] > 0.05)]\n",
    "    \n",
    "    if len(assumptions) != 0:\n",
    "        t_test['task'].append(df['df']['task'].iloc[0])\n",
    "        t_test['measure'].append(assumptions)\n",
    "        t_test['df'].append(df)"
   ]
  },
  {
   "cell_type": "code",
   "execution_count": 6,
   "id": "1055b70d",
   "metadata": {},
   "outputs": [
    {
     "name": "stdout",
     "output_type": "stream",
     "text": [
      "               T        dof alternative     p-val          CI95%   cohen-d  \\\n",
      "T-test -1.208047  38.241557   two-sided  0.234447  [-0.35, 0.09]  0.312373   \n",
      "\n",
      "         BF10     power  \n",
      "T-test  0.444  0.272385  \n",
      "               T        dof alternative     p-val          CI95%   cohen-d  \\\n",
      "T-test -1.360253  39.096555   two-sided  0.181542  [-0.36, 0.07]  0.347138   \n",
      "\n",
      "         BF10     power  \n",
      "T-test  0.525  0.324302  \n",
      "               T         dof alternative     p-val          CI95%   cohen-d  \\\n",
      "T-test  0.640391  159.868496   two-sided  0.522835  [-0.08, 0.16]  0.081758   \n",
      "\n",
      "         BF10     power  \n",
      "T-test  0.175  0.094733  \n"
     ]
    }
   ],
   "source": [
    "for df in t_test['df']:\n",
    "   \n",
    "    index = 0\n",
    "    measure = t_test['measure'][index]\n",
    "    aan = df['aan'][measure[0]].values\n",
    "    hc = df['hc'][measure[0]].values\n",
    "    print(pin.ttest(aan,hc))\n",
    "    index + 1"
   ]
  },
  {
   "cell_type": "code",
   "execution_count": 7,
   "id": "a9685918",
   "metadata": {},
   "outputs": [
    {
     "name": "stdout",
     "output_type": "stream",
     "text": [
      "happy v neutral snr\n",
      "fear v neutral snr\n",
      "Multi-Echo rsFMRI snr\n"
     ]
    }
   ],
   "source": [
    "for task in range(len(t_test['df'])):\n",
    "    print(t_test['task'][task] + ' ' + t_test['measure'][task][0])"
   ]
  },
  {
   "cell_type": "code",
   "execution_count": 8,
   "id": "4efef295",
   "metadata": {},
   "outputs": [
    {
     "name": "stdout",
     "output_type": "stream",
     "text": [
      "happy v neutral\n",
      "fd_mean\n",
      "      U-val alternative     p-val       RBC      CLES\n",
      "MWU  882.0   two-sided  0.942647  0.010101  0.494949 \n",
      "\n",
      "fd_num\n",
      "      U-val alternative     p-val       RBC      CLES\n",
      "MWU  837.5   two-sided  0.653035  0.060045  0.469978 \n",
      "\n",
      "fd_perc\n",
      "      U-val alternative     p-val       RBC      CLES\n",
      "MWU  836.5   two-sided  0.646974  0.061167  0.469416 \n",
      "\n",
      "fear v neutral\n",
      "fd_mean\n",
      "      U-val alternative     p-val       RBC      CLES\n",
      "MWU  916.0   two-sided  0.835724 -0.028058  0.514029 \n",
      "\n",
      "fd_num\n",
      "      U-val alternative     p-val       RBC      CLES\n",
      "MWU  872.5   two-sided  0.878674  0.020763  0.489618 \n",
      "\n",
      "fd_perc\n",
      "      U-val alternative     p-val       RBC      CLES\n",
      "MWU  873.0   two-sided  0.882022  0.020202  0.489899 \n",
      "\n",
      "emdedded figs\n",
      "fd_mean\n",
      "      U-val alternative     p-val       RBC      CLES\n",
      "MWU  769.0   two-sided  0.303776  0.136925  0.431538 \n",
      "\n",
      "fd_num\n",
      "      U-val alternative     p-val     RBC    CLES\n",
      "MWU  788.0   two-sided  0.385337  0.1156  0.4422 \n",
      "\n",
      "fd_perc\n",
      "      U-val alternative     p-val     RBC    CLES\n",
      "MWU  788.0   two-sided  0.385342  0.1156  0.4422 \n",
      "\n",
      "Multi-Echo rsFMRI\n",
      "fd_mean\n",
      "       U-val alternative     p-val       RBC      CLES\n",
      "MWU  6964.0   two-sided  0.084747  0.131563  0.434219 \n",
      "\n",
      "fd_num\n",
      "       U-val alternative     p-val       RBC      CLES\n",
      "MWU  7126.5   two-sided  0.144196  0.111298  0.444351 \n",
      "\n",
      "fd_perc\n",
      "       U-val alternative     p-val       RBC      CLES\n",
      "MWU  7126.5   two-sided  0.144196  0.111298  0.444351 \n",
      "\n"
     ]
    }
   ],
   "source": [
    "for df in dfs:\n",
    "    print(df['df']['task'].iloc[0])\n",
    "    print('fd_mean\\n', pin.mwu(df['aan']['fd_mean'], df['hc']['fd_mean']), '\\n')\n",
    "    print('fd_num\\n', pin.mwu(df['aan']['fd_num'], df['hc']['fd_num']), '\\n')\n",
    "    print('fd_perc\\n' , pin.mwu(df['aan']['fd_perc'], df['hc']['fd_perc']), '\\n')"
   ]
  },
  {
   "cell_type": "code",
   "execution_count": 9,
   "id": "ee7c9dfb",
   "metadata": {},
   "outputs": [
    {
     "name": "stdout",
     "output_type": "stream",
     "text": [
      "resting snr       U-val alternative     p-val       RBC      CLES\n",
      "MWU  6964.0   two-sided  0.084747  0.131563  0.434219 \n",
      "\n",
      "fear snr      U-val alternative     p-val     RBC    CLES\n",
      "MWU  788.0   two-sided  0.385337  0.1156  0.4422 \n",
      "\n"
     ]
    }
   ],
   "source": [
    "print('resting snr', pin.mwu(rest_df['aan']['fd_mean'], rest_df['hc']['fd_mean']), '\\n')\n",
    "print('fear snr', pin.mwu(eft_df['aan']['fd_num'], eft_df['hc']['fd_num']), '\\n')"
   ]
  },
  {
   "cell_type": "code",
   "execution_count": 10,
   "id": "34a5c98b",
   "metadata": {},
   "outputs": [
    {
     "name": "stdout",
     "output_type": "stream",
     "text": [
      "0.6732742786407471\n",
      "0.05259619280695915\n",
      "LeveneResult(statistic=2.2393945165782156, pvalue=0.13799400977542461)\n",
      "               T        dof alternative     p-val          CI95%   cohen-d  \\\n",
      "T-test  0.451191  40.362575   two-sided  0.654267  [-0.08, 0.13]  0.113057   \n",
      "\n",
      "         BF10     power  \n",
      "T-test  0.258  0.077893  \n"
     ]
    }
   ],
   "source": [
    "print(stats.shapiro(anat_df['hc']['cnr'])[1])  \n",
    "print(stats.shapiro(anat_df['aan']['cnr'])[1])\n",
    "print(stats.levene(anat_df['hc']['cnr'], anat_df['aan']['cnr']))\n",
    "print(pin.ttest(anat_df['aan']['cnr'], anat_df['hc']['cnr']))"
   ]
  }
 ],
 "metadata": {
  "interpreter": {
   "hash": "5d1a98af6a242a3d1220cb58f6ee87a8a658ff80db10bdf2e9da647d04e7af7b"
  },
  "kernelspec": {
   "display_name": "Python 3.8.12 ('neuroimaging')",
   "language": "python",
   "name": "python3"
  },
  "language_info": {
   "codemirror_mode": {
    "name": "ipython",
    "version": 3
   },
   "file_extension": ".py",
   "mimetype": "text/x-python",
   "name": "python",
   "nbconvert_exporter": "python",
   "pygments_lexer": "ipython3",
   "version": "3.8.12"
  }
 },
 "nbformat": 4,
 "nbformat_minor": 5
}
