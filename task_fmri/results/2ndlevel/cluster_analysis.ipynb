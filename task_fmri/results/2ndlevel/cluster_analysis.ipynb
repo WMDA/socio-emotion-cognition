{
 "cells": [
  {
   "attachments": {},
   "cell_type": "markdown",
   "metadata": {},
   "source": [
    "# Examine Clusters"
   ]
  },
  {
   "cell_type": "code",
   "execution_count": 9,
   "metadata": {},
   "outputs": [],
   "source": [
    "import os\n",
    "from decouple import config\n",
    "import second_level_functions as slf\n",
    "import numpy as np\n",
    "import pandas as pd\n",
    "import ptitprince as pt\n",
    "import seaborn as sns\n",
    "sns.set_style('darkgrid')\n",
    "import matplotlib.pyplot as plt\n",
    "import statsmodels.formula.api as smf"
   ]
  },
  {
   "attachments": {},
   "cell_type": "markdown",
   "metadata": {},
   "source": [
    "Change task and contrast to examine clusters"
   ]
  },
  {
   "cell_type": "code",
   "execution_count": 10,
   "metadata": {},
   "outputs": [],
   "source": [
    "task = 'happy'\n",
    "contrast = 'interaction'"
   ]
  },
  {
   "attachments": {},
   "cell_type": "markdown",
   "metadata": {},
   "source": [
    "Read in images and get parameter estimates"
   ]
  },
  {
   "cell_type": "code",
   "execution_count": 11,
   "metadata": {},
   "outputs": [],
   "source": [
    "base_dir = config(task)\n",
    "path = os.path.join(base_dir, '2ndlevel')\n",
    "copes_dir = os.path.join(base_dir, '2ndlevel', 'mixed_model')\n",
    "parameter_estimates_df = slf.get_peak_voxel(base_dir, path, copes_dir, contrast)"
   ]
  },
  {
   "attachments": {},
   "cell_type": "markdown",
   "metadata": {},
   "source": [
    "## Plot and get mean of parameter estimates\n",
    "\n",
    "Split parameter estimates by group and time point. Then get mean of each group and at in each time point"
   ]
  },
  {
   "cell_type": "code",
   "execution_count": 12,
   "metadata": {},
   "outputs": [],
   "source": [
    "group_values = {\n",
    "                'an_t1': parameter_estimates_df.loc[(parameter_estimates_df['group'] == 'AN') \n",
    "                                                      & (parameter_estimates_df['time_point'] == 't1')].iloc[:, 4:],\n",
    "                'an_t2':  parameter_estimates_df.loc[(parameter_estimates_df['group'] == 'AN') \n",
    "                                                     & (parameter_estimates_df['time_point'] == 't2')].iloc[:, 4:],\n",
    "                'hc_t1': parameter_estimates_df.loc[(parameter_estimates_df['group'] == 'HC') \n",
    "                                                    & (parameter_estimates_df['time_point'] == 't1')].iloc[:, 4:],\n",
    "                'hc_t2': parameter_estimates_df.loc[(parameter_estimates_df['group'] == 'HC') \n",
    "                                                    & (parameter_estimates_df['time_point'] == 't2')].iloc[:, 4:]\n",
    "}"
   ]
  },
  {
   "cell_type": "code",
   "execution_count": 13,
   "metadata": {},
   "outputs": [
    {
     "data": {
      "text/html": [
       "<div>\n",
       "<style scoped>\n",
       "    .dataframe tbody tr th:only-of-type {\n",
       "        vertical-align: middle;\n",
       "    }\n",
       "\n",
       "    .dataframe tbody tr th {\n",
       "        vertical-align: top;\n",
       "    }\n",
       "\n",
       "    .dataframe thead th {\n",
       "        text-align: right;\n",
       "    }\n",
       "</style>\n",
       "<table border=\"1\" class=\"dataframe\">\n",
       "  <thead>\n",
       "    <tr style=\"text-align: right;\">\n",
       "      <th></th>\n",
       "      <th>Vermis_4_5</th>\n",
       "    </tr>\n",
       "  </thead>\n",
       "  <tbody>\n",
       "    <tr>\n",
       "      <th>AN T1 mean</th>\n",
       "      <td>1.808552</td>\n",
       "    </tr>\n",
       "    <tr>\n",
       "      <th>AN T1 std</th>\n",
       "      <td>1.771879</td>\n",
       "    </tr>\n",
       "    <tr>\n",
       "      <th>HC T1 mean</th>\n",
       "      <td>2.971905</td>\n",
       "    </tr>\n",
       "    <tr>\n",
       "      <th>HC T1 std</th>\n",
       "      <td>2.551519</td>\n",
       "    </tr>\n",
       "    <tr>\n",
       "      <th>AN T2 mean</th>\n",
       "      <td>2.511060</td>\n",
       "    </tr>\n",
       "    <tr>\n",
       "      <th>AN T2 std</th>\n",
       "      <td>2.332078</td>\n",
       "    </tr>\n",
       "    <tr>\n",
       "      <th>HC T2 mean</th>\n",
       "      <td>1.221835</td>\n",
       "    </tr>\n",
       "    <tr>\n",
       "      <th>HC T2 std</th>\n",
       "      <td>0.827403</td>\n",
       "    </tr>\n",
       "    <tr>\n",
       "      <th>AN overall mean</th>\n",
       "      <td>2.159806</td>\n",
       "    </tr>\n",
       "    <tr>\n",
       "      <th>AN overall std</th>\n",
       "      <td>2.092883</td>\n",
       "    </tr>\n",
       "    <tr>\n",
       "      <th>HC overall mean</th>\n",
       "      <td>2.096869</td>\n",
       "    </tr>\n",
       "    <tr>\n",
       "      <th>HC overall std</th>\n",
       "      <td>2.075977</td>\n",
       "    </tr>\n",
       "    <tr>\n",
       "      <th>T1 overall mean</th>\n",
       "      <td>2.149971</td>\n",
       "    </tr>\n",
       "    <tr>\n",
       "      <th>T1 overall std</th>\n",
       "      <td>2.086101</td>\n",
       "    </tr>\n",
       "    <tr>\n",
       "      <th>T2 overall mean</th>\n",
       "      <td>2.132701</td>\n",
       "    </tr>\n",
       "    <tr>\n",
       "      <th>T2 overall std</th>\n",
       "      <td>2.090206</td>\n",
       "    </tr>\n",
       "  </tbody>\n",
       "</table>\n",
       "</div>"
      ],
      "text/plain": [
       "                 Vermis_4_5\n",
       "AN T1 mean         1.808552\n",
       "AN T1 std          1.771879\n",
       "HC T1 mean         2.971905\n",
       "HC T1 std          2.551519\n",
       "AN T2 mean         2.511060\n",
       "AN T2 std          2.332078\n",
       "HC T2 mean         1.221835\n",
       "HC T2 std          0.827403\n",
       "AN overall mean    2.159806\n",
       "AN overall std     2.092883\n",
       "HC overall mean    2.096869\n",
       "HC overall std     2.075977\n",
       "T1 overall mean    2.149971\n",
       "T1 overall std     2.086101\n",
       "T2 overall mean    2.132701\n",
       "T2 overall std     2.090206"
      ]
     },
     "execution_count": 13,
     "metadata": {},
     "output_type": "execute_result"
    }
   ],
   "source": [
    "means_std_df = pd.DataFrame(data={\n",
    "    'AN T1 mean':  group_values['an_t1'].mean(),\n",
    "    'AN T1 std':  group_values['an_t1'].std(),\n",
    "    'HC T1 mean': group_values['hc_t1'].mean(),\n",
    "    'HC T1 std': group_values['hc_t1'].std(),\n",
    "    'AN T2 mean': group_values['an_t2'].mean(),\n",
    "    'AN T2 std':  group_values['an_t2'].std(),\n",
    "    'HC T2 mean': group_values['hc_t2'].mean(),\n",
    "    'HC T2 std': group_values['hc_t2'].std(),\n",
    "    'AN overall mean': pd.concat((group_values['an_t1'], group_values['an_t2'])).mean(),\n",
    "    'AN overall std': pd.concat((group_values['an_t1'], group_values['an_t2'])).std(),\n",
    "    'HC overall mean': pd.concat((group_values['hc_t1'], group_values['hc_t2'])).mean(),\n",
    "    'HC overall std': pd.concat((group_values['hc_t1'], group_values['hc_t2'])).std(),\n",
    "    'T1 overall mean': pd.concat((group_values['an_t1'], group_values['hc_t1'])).mean(),\n",
    "    'T1 overall std': pd.concat((group_values['an_t1'], group_values['hc_t1'])).std(),\n",
    "    'T2 overall mean': pd.concat((group_values['hc_t2'], group_values['an_t2'])).mean(),\n",
    "    'T2 overall std': pd.concat((group_values['an_t2'], group_values['hc_t2'])).std()\n",
    "                   }).T\n",
    "means_std_df"
   ]
  },
  {
   "attachments": {},
   "cell_type": "markdown",
   "metadata": {},
   "source": [
    "Plot parameter estimates"
   ]
  },
  {
   "cell_type": "code",
   "execution_count": 14,
   "metadata": {},
   "outputs": [
    {
     "data": {
      "image/png": "[encoded data removed]",
      "text/plain": [
       "<Figure size 1000x800 with 1 Axes>"
      ]
     },
     "metadata": {},
     "output_type": "display_data"
    }
   ],
   "source": [
    "for cluster in means_std_df.columns:\n",
    "    fig,ax = plt.subplots(1,1, figsize=(10, 8))\n",
    "    pt.RainCloud(\n",
    "        x=\"time_point\", \n",
    "        y=cluster, \n",
    "        hue=\"group\", \n",
    "        data=parameter_estimates_df, \n",
    "        palette='Accent_r', \n",
    "        alpha=.65, \n",
    "        dodge=True, \n",
    "        scale=\"area\",\n",
    "        ax=ax,\n",
    "        width_viol=.5,\n",
    "        jitter=0,\n",
    "        pointplot = True,\n",
    "        bw=.3\n",
    "         )\n",
    "\n"
   ]
  },
  {
   "attachments": {},
   "cell_type": "markdown",
   "metadata": {},
   "source": [
    "## Linear Mixed Model\n",
    "\n",
    "Change reference level of model by changing the name of AN to participant with AN (pAN) and HC to Control"
   ]
  },
  {
   "cell_type": "code",
   "execution_count": 15,
   "metadata": {},
   "outputs": [],
   "source": [
    "regression_df = parameter_estimates_df\n",
    "regression_df['group'] = regression_df['group'].apply(lambda group: 'pAN' if group == 'AN' else 'Control')"
   ]
  },
  {
   "attachments": {},
   "cell_type": "markdown",
   "metadata": {},
   "source": [
    "define and fit the model"
   ]
  },
  {
   "cell_type": "code",
   "execution_count": 16,
   "metadata": {},
   "outputs": [
    {
     "name": "stdout",
     "output_type": "stream",
     "text": [
      "----------------------------------------------------------------------------------------------------\n",
      "Vermis_4_5\n"
     ]
    },
    {
     "data": {
      "text/html": [
       "<div>\n",
       "<style scoped>\n",
       "    .dataframe tbody tr th:only-of-type {\n",
       "        vertical-align: middle;\n",
       "    }\n",
       "\n",
       "    .dataframe tbody tr th {\n",
       "        vertical-align: top;\n",
       "    }\n",
       "\n",
       "    .dataframe thead th {\n",
       "        text-align: right;\n",
       "    }\n",
       "</style>\n",
       "<table border=\"1\" class=\"dataframe\">\n",
       "  <thead>\n",
       "    <tr style=\"text-align: right;\">\n",
       "      <th></th>\n",
       "      <th>Intercept</th>\n",
       "      <th>time_point[T.t2]</th>\n",
       "      <th>group[T.pAN]</th>\n",
       "      <th>group[T.pAN]:time_point[T.t2]</th>\n",
       "    </tr>\n",
       "  </thead>\n",
       "  <tbody>\n",
       "    <tr>\n",
       "      <th>params</th>\n",
       "      <td>2.971905</td>\n",
       "      <td>-1.750070</td>\n",
       "      <td>-1.163353</td>\n",
       "      <td>2.452579</td>\n",
       "    </tr>\n",
       "    <tr>\n",
       "      <th>std</th>\n",
       "      <td>0.389171</td>\n",
       "      <td>0.476889</td>\n",
       "      <td>0.462997</td>\n",
       "      <td>0.567355</td>\n",
       "    </tr>\n",
       "  </tbody>\n",
       "</table>\n",
       "</div>"
      ],
      "text/plain": [
       "        Intercept  time_point[T.t2]  group[T.pAN]  \\\n",
       "params   2.971905         -1.750070     -1.163353   \n",
       "std      0.389171          0.476889      0.462997   \n",
       "\n",
       "        group[T.pAN]:time_point[T.t2]  \n",
       "params                       2.452579  \n",
       "std                          0.567355  "
      ]
     },
     "metadata": {},
     "output_type": "display_data"
    }
   ],
   "source": [
    "import IPython.display as display\n",
    "\n",
    "for cluster in means_std_df.columns:\n",
    "\n",
    "    model = smf.mixedlm(f\"{cluster} ~ time_point + group + group*time_point\", \n",
    "                        regression_df, \n",
    "                        groups=regression_df[\"sub\"]).fit()\n",
    "    model.summary()\n",
    "    \n",
    "    summ = pd.concat((model.params.to_frame().T.rename(index={0: 'params'}), \n",
    "               model.bse_fe.to_frame().T.rename(index={0: 'std'}))).dropna(axis=1)\n",
    "    print('-'*100)\n",
    "    print(cluster)\n",
    "    display.display(summ)"
   ]
  }
 ],
 "metadata": {
  "kernelspec": {
   "display_name": "neuroimaging",
   "language": "python",
   "name": "python3"
  },
  "language_info": {
   "codemirror_mode": {
    "name": "ipython",
    "version": 3
   },
   "file_extension": ".py",
   "mimetype": "text/x-python",
   "name": "python",
   "nbconvert_exporter": "python",
   "pygments_lexer": "ipython3",
   "version": "3.9.13"
  },
  "orig_nbformat": 4
 },
 "nbformat": 4,
 "nbformat_minor": 2
}
