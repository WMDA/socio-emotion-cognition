{
 "cells": [
  {
   "cell_type": "code",
   "execution_count": 14,
   "metadata": {},
   "outputs": [],
   "source": [
    "from fNeuro.ml.mvpa_functions import ados\n",
    "import pandas as pd\n",
    "import seaborn as sns\n",
    "from scipy import stats\n",
    "import numpy as np\n"
   ]
  },
  {
   "cell_type": "code",
   "execution_count": 7,
   "metadata": {},
   "outputs": [],
   "source": [
    "ados_test = ados('G2', test_train='test', directory='combined')\n",
    "ados_train = ados('G2', test_train='train', directory='combined')\n",
    "ados_df = pd.concat([ados_test, ados_train], axis=0)"
   ]
  },
  {
   "cell_type": "code",
   "execution_count": 10,
   "metadata": {},
   "outputs": [
    {
     "ename": "ValueError",
     "evalue": "The truth value of a Series is ambiguous. Use a.empty, a.bool(), a.item(), a.any() or a.all().",
     "output_type": "error",
     "traceback": [
      "\u001b[0;31m---------------------------------------------------------------------------\u001b[0m",
      "\u001b[0;31mValueError\u001b[0m                                Traceback (most recent call last)",
      "Cell \u001b[0;32mIn[10], line 1\u001b[0m\n\u001b[0;32m----> 1\u001b[0m sns\u001b[39m.\u001b[39;49mboxplot(x\u001b[39m=\u001b[39;49mados_df)\n",
      "File \u001b[0;32m~/.conda/envs/neuroimaging/lib/python3.10/site-packages/seaborn/_decorators.py:46\u001b[0m, in \u001b[0;36m_deprecate_positional_args.<locals>.inner_f\u001b[0;34m(*args, **kwargs)\u001b[0m\n\u001b[1;32m     36\u001b[0m     warnings\u001b[39m.\u001b[39mwarn(\n\u001b[1;32m     37\u001b[0m         \u001b[39m\"\u001b[39m\u001b[39mPass the following variable\u001b[39m\u001b[39m{}\u001b[39;00m\u001b[39m as \u001b[39m\u001b[39m{}\u001b[39;00m\u001b[39mkeyword arg\u001b[39m\u001b[39m{}\u001b[39;00m\u001b[39m: \u001b[39m\u001b[39m{}\u001b[39;00m\u001b[39m. \u001b[39m\u001b[39m\"\u001b[39m\n\u001b[1;32m     38\u001b[0m         \u001b[39m\"\u001b[39m\u001b[39mFrom version 0.12, the only valid positional argument \u001b[39m\u001b[39m\"\u001b[39m\n\u001b[0;32m   (...)\u001b[0m\n\u001b[1;32m     43\u001b[0m         \u001b[39mFutureWarning\u001b[39;00m\n\u001b[1;32m     44\u001b[0m     )\n\u001b[1;32m     45\u001b[0m kwargs\u001b[39m.\u001b[39mupdate({k: arg \u001b[39mfor\u001b[39;00m k, arg \u001b[39min\u001b[39;00m \u001b[39mzip\u001b[39m(sig\u001b[39m.\u001b[39mparameters, args)})\n\u001b[0;32m---> 46\u001b[0m \u001b[39mreturn\u001b[39;00m f(\u001b[39m*\u001b[39;49m\u001b[39m*\u001b[39;49mkwargs)\n",
      "File \u001b[0;32m~/.conda/envs/neuroimaging/lib/python3.10/site-packages/seaborn/categorical.py:2230\u001b[0m, in \u001b[0;36mboxplot\u001b[0;34m(x, y, hue, data, order, hue_order, orient, color, palette, saturation, width, dodge, fliersize, linewidth, whis, ax, **kwargs)\u001b[0m\n\u001b[1;32m   2218\u001b[0m \u001b[39m@_deprecate_positional_args\u001b[39m\n\u001b[1;32m   2219\u001b[0m \u001b[39mdef\u001b[39;00m \u001b[39mboxplot\u001b[39m(\n\u001b[1;32m   2220\u001b[0m     \u001b[39m*\u001b[39m,\n\u001b[0;32m   (...)\u001b[0m\n\u001b[1;32m   2227\u001b[0m     \u001b[39m*\u001b[39m\u001b[39m*\u001b[39mkwargs\n\u001b[1;32m   2228\u001b[0m ):\n\u001b[0;32m-> 2230\u001b[0m     plotter \u001b[39m=\u001b[39m _BoxPlotter(x, y, hue, data, order, hue_order,\n\u001b[1;32m   2231\u001b[0m                           orient, color, palette, saturation,\n\u001b[1;32m   2232\u001b[0m                           width, dodge, fliersize, linewidth)\n\u001b[1;32m   2234\u001b[0m     \u001b[39mif\u001b[39;00m ax \u001b[39mis\u001b[39;00m \u001b[39mNone\u001b[39;00m:\n\u001b[1;32m   2235\u001b[0m         ax \u001b[39m=\u001b[39m plt\u001b[39m.\u001b[39mgca()\n",
      "File \u001b[0;32m~/.conda/envs/neuroimaging/lib/python3.10/site-packages/seaborn/categorical.py:406\u001b[0m, in \u001b[0;36m_BoxPlotter.__init__\u001b[0;34m(self, x, y, hue, data, order, hue_order, orient, color, palette, saturation, width, dodge, fliersize, linewidth)\u001b[0m\n\u001b[1;32m    402\u001b[0m \u001b[39mdef\u001b[39;00m \u001b[39m__init__\u001b[39m(\u001b[39mself\u001b[39m, x, y, hue, data, order, hue_order,\n\u001b[1;32m    403\u001b[0m              orient, color, palette, saturation,\n\u001b[1;32m    404\u001b[0m              width, dodge, fliersize, linewidth):\n\u001b[0;32m--> 406\u001b[0m     \u001b[39mself\u001b[39;49m\u001b[39m.\u001b[39;49mestablish_variables(x, y, hue, data, orient, order, hue_order)\n\u001b[1;32m    407\u001b[0m     \u001b[39mself\u001b[39m\u001b[39m.\u001b[39mestablish_colors(color, palette, saturation)\n\u001b[1;32m    409\u001b[0m     \u001b[39mself\u001b[39m\u001b[39m.\u001b[39mdodge \u001b[39m=\u001b[39m dodge\n",
      "File \u001b[0;32m~/.conda/envs/neuroimaging/lib/python3.10/site-packages/seaborn/categorical.py:156\u001b[0m, in \u001b[0;36m_CategoricalPlotter.establish_variables\u001b[0;34m(self, x, y, hue, data, orient, order, hue_order, units)\u001b[0m\n\u001b[1;32m    153\u001b[0m         \u001b[39mraise\u001b[39;00m \u001b[39mValueError\u001b[39;00m(err)\n\u001b[1;32m    155\u001b[0m \u001b[39m# Figure out the plotting orientation\u001b[39;00m\n\u001b[0;32m--> 156\u001b[0m orient \u001b[39m=\u001b[39m infer_orient(\n\u001b[1;32m    157\u001b[0m     x, y, orient, require_numeric\u001b[39m=\u001b[39;49m\u001b[39mself\u001b[39;49m\u001b[39m.\u001b[39;49mrequire_numeric\n\u001b[1;32m    158\u001b[0m )\n\u001b[1;32m    160\u001b[0m \u001b[39m# Option 2a:\u001b[39;00m\n\u001b[1;32m    161\u001b[0m \u001b[39m# We are plotting a single set of data\u001b[39;00m\n\u001b[1;32m    162\u001b[0m \u001b[39m# ------------------------------------\u001b[39;00m\n\u001b[1;32m    163\u001b[0m \u001b[39mif\u001b[39;00m x \u001b[39mis\u001b[39;00m \u001b[39mNone\u001b[39;00m \u001b[39mor\u001b[39;00m y \u001b[39mis\u001b[39;00m \u001b[39mNone\u001b[39;00m:\n\u001b[1;32m    164\u001b[0m \n\u001b[1;32m    165\u001b[0m     \u001b[39m# Determine where the data are\u001b[39;00m\n",
      "File \u001b[0;32m~/.conda/envs/neuroimaging/lib/python3.10/site-packages/seaborn/_core.py:1288\u001b[0m, in \u001b[0;36minfer_orient\u001b[0;34m(x, y, orient, require_numeric)\u001b[0m\n\u001b[1;32m   1260\u001b[0m \u001b[39mdef\u001b[39;00m \u001b[39minfer_orient\u001b[39m(x\u001b[39m=\u001b[39m\u001b[39mNone\u001b[39;00m, y\u001b[39m=\u001b[39m\u001b[39mNone\u001b[39;00m, orient\u001b[39m=\u001b[39m\u001b[39mNone\u001b[39;00m, require_numeric\u001b[39m=\u001b[39m\u001b[39mTrue\u001b[39;00m):\n\u001b[1;32m   1261\u001b[0m \u001b[39m    \u001b[39m\u001b[39m\"\"\"Determine how the plot should be oriented based on the data.\u001b[39;00m\n\u001b[1;32m   1262\u001b[0m \n\u001b[1;32m   1263\u001b[0m \u001b[39m    For historical reasons, the convention is to call a plot \"horizontally\"\u001b[39;00m\n\u001b[0;32m   (...)\u001b[0m\n\u001b[1;32m   1285\u001b[0m \n\u001b[1;32m   1286\u001b[0m \u001b[39m    \"\"\"\u001b[39;00m\n\u001b[0;32m-> 1288\u001b[0m     x_type \u001b[39m=\u001b[39m \u001b[39mNone\u001b[39;00m \u001b[39mif\u001b[39;00m x \u001b[39mis\u001b[39;00m \u001b[39mNone\u001b[39;00m \u001b[39melse\u001b[39;00m variable_type(x)\n\u001b[1;32m   1289\u001b[0m     y_type \u001b[39m=\u001b[39m \u001b[39mNone\u001b[39;00m \u001b[39mif\u001b[39;00m y \u001b[39mis\u001b[39;00m \u001b[39mNone\u001b[39;00m \u001b[39melse\u001b[39;00m variable_type(y)\n\u001b[1;32m   1291\u001b[0m     nonnumeric_dv_error \u001b[39m=\u001b[39m \u001b[39m\"\u001b[39m\u001b[39m{}\u001b[39;00m\u001b[39m orientation requires numeric `\u001b[39m\u001b[39m{}\u001b[39;00m\u001b[39m` variable.\u001b[39m\u001b[39m\"\u001b[39m\n",
      "File \u001b[0;32m~/.conda/envs/neuroimaging/lib/python3.10/site-packages/seaborn/_core.py:1203\u001b[0m, in \u001b[0;36mvariable_type\u001b[0;34m(vector, boolean_type)\u001b[0m\n\u001b[1;32m   1180\u001b[0m \u001b[39m\u001b[39m\u001b[39m\"\"\"Determine whether a vector contains numeric, categorical, or dateime data.\u001b[39;00m\n\u001b[1;32m   1181\u001b[0m \n\u001b[1;32m   1182\u001b[0m \u001b[39mThis function differs from the pandas typing API in two ways:\u001b[39;00m\n\u001b[0;32m   (...)\u001b[0m\n\u001b[1;32m   1200\u001b[0m \n\u001b[1;32m   1201\u001b[0m \u001b[39m\"\"\"\u001b[39;00m\n\u001b[1;32m   1202\u001b[0m \u001b[39m# Special-case all-na data, which is always \"numeric\"\u001b[39;00m\n\u001b[0;32m-> 1203\u001b[0m \u001b[39mif\u001b[39;00m pd\u001b[39m.\u001b[39misna(vector)\u001b[39m.\u001b[39mall():\n\u001b[1;32m   1204\u001b[0m     \u001b[39mreturn\u001b[39;00m \u001b[39m\"\u001b[39m\u001b[39mnumeric\u001b[39m\u001b[39m\"\u001b[39m\n\u001b[1;32m   1206\u001b[0m \u001b[39m# Special-case binary/boolean data, allow caller to determine\u001b[39;00m\n\u001b[1;32m   1207\u001b[0m \u001b[39m# This triggers a numpy warning when vector has strings/objects\u001b[39;00m\n\u001b[1;32m   1208\u001b[0m \u001b[39m# https://github.com/numpy/numpy/issues/6784\u001b[39;00m\n\u001b[0;32m   (...)\u001b[0m\n\u001b[1;32m   1212\u001b[0m \u001b[39m# https://github.com/numpy/numpy/issues/13548\u001b[39;00m\n\u001b[1;32m   1213\u001b[0m \u001b[39m# This is considered a bug by numpy and will likely go away.\u001b[39;00m\n",
      "File \u001b[0;32m~/.conda/envs/neuroimaging/lib/python3.10/site-packages/pandas/core/generic.py:1527\u001b[0m, in \u001b[0;36mNDFrame.__nonzero__\u001b[0;34m(self)\u001b[0m\n\u001b[1;32m   1525\u001b[0m \u001b[39m@final\u001b[39m\n\u001b[1;32m   1526\u001b[0m \u001b[39mdef\u001b[39;00m \u001b[39m__nonzero__\u001b[39m(\u001b[39mself\u001b[39m) \u001b[39m-\u001b[39m\u001b[39m>\u001b[39m NoReturn:\n\u001b[0;32m-> 1527\u001b[0m     \u001b[39mraise\u001b[39;00m \u001b[39mValueError\u001b[39;00m(\n\u001b[1;32m   1528\u001b[0m         \u001b[39mf\u001b[39m\u001b[39m\"\u001b[39m\u001b[39mThe truth value of a \u001b[39m\u001b[39m{\u001b[39;00m\u001b[39mtype\u001b[39m(\u001b[39mself\u001b[39m)\u001b[39m.\u001b[39m\u001b[39m__name__\u001b[39m\u001b[39m}\u001b[39;00m\u001b[39m is ambiguous. \u001b[39m\u001b[39m\"\u001b[39m\n\u001b[1;32m   1529\u001b[0m         \u001b[39m\"\u001b[39m\u001b[39mUse a.empty, a.bool(), a.item(), a.any() or a.all().\u001b[39m\u001b[39m\"\u001b[39m\n\u001b[1;32m   1530\u001b[0m     )\n",
      "\u001b[0;31mValueError\u001b[0m: The truth value of a Series is ambiguous. Use a.empty, a.bool(), a.item(), a.any() or a.all()."
     ]
    }
   ],
   "source": [
    "sns.boxplot(x=ados_df)"
   ]
  },
  {
   "cell_type": "code",
   "execution_count": 11,
   "metadata": {},
   "outputs": [
    {
     "data": {
      "text/plain": [
       "Index(['G-Number', 'ADOS_Communication', 'ADOS_Interaction', 'ADOS_com_soc',\n",
       "       'ADOS_Creativity', 'ADOS_sterotyped_and_repetititve', 'paths'],\n",
       "      dtype='object')"
      ]
     },
     "execution_count": 11,
     "metadata": {},
     "output_type": "execute_result"
    }
   ],
   "source": [
    "ados_df.columns"
   ]
  },
  {
   "cell_type": "code",
   "execution_count": 15,
   "metadata": {},
   "outputs": [],
   "source": [
    "ados_df['z_score_ADOS_Communication'] = np.abs(stats.zscore(ados_df['ADOS_Communication'] ))\n"
   ]
  }
 ],
 "metadata": {
  "kernelspec": {
   "display_name": "neuroimaging",
   "language": "python",
   "name": "python3"
  },
  "language_info": {
   "codemirror_mode": {
    "name": "ipython",
    "version": 3
   },
   "file_extension": ".py",
   "mimetype": "text/x-python",
   "name": "python",
   "nbconvert_exporter": "python",
   "pygments_lexer": "ipython3",
   "version": "3.10.12"
  },
  "orig_nbformat": 4
 },
 "nbformat": 4,
 "nbformat_minor": 2
}
