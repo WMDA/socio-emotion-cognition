{
 "cells": [
  {
   "cell_type": "code",
   "execution_count": 6,
   "metadata": {},
   "outputs": [],
   "source": [
    "import os\n",
    "from decouple import config\n",
    "import second_level_functions as slf\n",
    "import numpy as np\n",
    "import pandas as pd"
   ]
  },
  {
   "cell_type": "code",
   "execution_count": 2,
   "metadata": {},
   "outputs": [],
   "source": [
    "task = 'eft'\n",
    "threshold_pval = -np.log10(0.05)"
   ]
  },
  {
   "cell_type": "code",
   "execution_count": 11,
   "metadata": {},
   "outputs": [],
   "source": [
    "base_dir = config(task)\n",
    "path = os.path.join(base_dir, '2ndlevel', 'mixed_model')\n",
    "\n",
    "images = slf.get_images(path)\n",
    "contrasts = slf.contrast_imgs(images['t_stat'], images['pvals'])"
   ]
  },
  {
   "cell_type": "code",
   "execution_count": 25,
   "metadata": {},
   "outputs": [],
   "source": [
    "def participant_data(base_dir: str) -> pd.DataFrame:\n",
    "\n",
    "    '''\n",
    "    Function to read in and build df of participants information.\n",
    "\n",
    "    Parameters\n",
    "    ----------\n",
    "    base_dir: str\n",
    "        directory where 1stlevel_location.csv is located.\n",
    "\n",
    "    Returns\n",
    "    -------\n",
    "    long_df: pd.DataFrame\n",
    "        DataFrame in long form of subject, time and id values\n",
    "    '''\n",
    "    participant_scans = pd.read_csv(f\"{base_dir}/1stlevel_location.csv\")\n",
    "    participant_scans['sub'] = participant_scans.index\n",
    "    long_df = pd.melt(participant_scans, id_vars=['sub'], \n",
    "                      var_name='time_point', \n",
    "                      value_vars=['t1', 't2',], \n",
    "                      value_name='scans').sort_values(by=['sub'], ascending=True).reset_index(drop=True)\n",
    "    long_df = long_df.drop(long_df[long_df['sub'] == 75].index)\n",
    "    long_df['scans'] = long_df['scans'].str.replace(r'/data/project/BEACONB/task_fmri/.*?/1stlevel/T./', '', regex=True)\n",
    "    long_df['scans'] = long_df['scans'].str.replace(r'/con.*', '', regex=True)\n",
    "    long_df['group'] = long_df['scans'].apply(lambda participants: 'HC' if 'sub-G1' in participants or 'sub-B1' in participants else 'AN')\n",
    "\n",
    "    return long_df"
   ]
  },
  {
   "cell_type": "code",
   "execution_count": 4,
   "metadata": {},
   "outputs": [],
   "source": [
    "fmri_img_mask = slf.build_mask(contrasts['interaction']['pvals'], threshold_pval)"
   ]
  },
  {
   "cell_type": "code",
   "execution_count": 5,
   "metadata": {},
   "outputs": [],
   "source": [
    "parameter_estimates = slf.extract_parameter_estimates(path, fmri_img_mask)"
   ]
  },
  {
   "cell_type": "code",
   "execution_count": 28,
   "metadata": {},
   "outputs": [],
   "source": [
    "parameter_estimates_df = pd.concat((long_df, pd.DataFrame(parameter_estimates)), axis=1)"
   ]
  }
 ],
 "metadata": {
  "kernelspec": {
   "display_name": "neuroimaging",
   "language": "python",
   "name": "python3"
  },
  "language_info": {
   "codemirror_mode": {
    "name": "ipython",
    "version": 3
   },
   "file_extension": ".py",
   "mimetype": "text/x-python",
   "name": "python",
   "nbconvert_exporter": "python",
   "pygments_lexer": "ipython3",
   "version": "3.9.13"
  },
  "orig_nbformat": 4
 },
 "nbformat": 4,
 "nbformat_minor": 2
}
