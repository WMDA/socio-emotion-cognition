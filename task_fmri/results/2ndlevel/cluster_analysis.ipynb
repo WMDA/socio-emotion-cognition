{
 "cells": [
  {
   "attachments": {},
   "cell_type": "markdown",
   "metadata": {},
   "source": [
    "# Examine Clusters"
   ]
  },
  {
   "cell_type": "code",
   "execution_count": 14,
   "metadata": {},
   "outputs": [],
   "source": [
    "import os\n",
    "from decouple import config\n",
    "import second_level_functions as slf\n",
    "import numpy as np\n",
    "import pandas as pd\n",
    "import ptitprince as pt\n",
    "import seaborn as sns\n",
    "sns.set_style('darkgrid')\n",
    "import matplotlib.pyplot as plt\n",
    "import statsmodels.formula.api as smf"
   ]
  },
  {
   "attachments": {},
   "cell_type": "markdown",
   "metadata": {},
   "source": [
    "Change task and contrast to examine clusters"
   ]
  },
  {
   "cell_type": "code",
   "execution_count": 15,
   "metadata": {},
   "outputs": [],
   "source": [
    "task = 'happy'\n",
    "contrast = 'interaction'"
   ]
  },
  {
   "attachments": {},
   "cell_type": "markdown",
   "metadata": {},
   "source": [
    "Read in images and get parameter estimates"
   ]
  },
  {
   "cell_type": "code",
   "execution_count": 16,
   "metadata": {},
   "outputs": [],
   "source": [
    "base_dir = config(task)\n",
    "path = os.path.join(base_dir, '2ndlevel', 'mixed_model')\n",
    "images = slf.get_images(path)\n",
    "contrasts = slf.contrast_imgs(images['t_stat'], images['pvals'])\n",
    "threshold_pval = -np.log10(0.05)\n",
    "parameter_estimates_df = slf.get_parameter_estimates(contrasts[contrast]['pvals'], threshold_pval, path, base_dir)\n",
    "parameter_estimates_df['mean'] = parameter_estimates_df.iloc[0:,4:].mean(axis=1)"
   ]
  },
  {
   "attachments": {},
   "cell_type": "markdown",
   "metadata": {},
   "source": [
    "## Plot and get mean of parameter estimates\n",
    "\n",
    "Split parameter estimates by group and time point. Then get mean of each group and at in each time point"
   ]
  },
  {
   "cell_type": "code",
   "execution_count": 17,
   "metadata": {},
   "outputs": [],
   "source": [
    "an_t1 = parameter_estimates_df.loc[(parameter_estimates_df['group'] == 'AN') & (parameter_estimates_df['time_point'] == 't1')]\n",
    "an_t2 = parameter_estimates_df.loc[(parameter_estimates_df['group'] == 'AN') & (parameter_estimates_df['time_point'] == 't2')]\n",
    "hc_t1 = parameter_estimates_df.loc[(parameter_estimates_df['group'] == 'HC') & (parameter_estimates_df['time_point'] == 't1')]\n",
    "hc_t2 = parameter_estimates_df.loc[(parameter_estimates_df['group'] == 'HC') & (parameter_estimates_df['time_point'] == 't2')]"
   ]
  },
  {
   "cell_type": "code",
   "execution_count": 18,
   "metadata": {},
   "outputs": [
    {
     "data": {
      "text/html": [
       "<div>\n",
       "<style scoped>\n",
       "    .dataframe tbody tr th:only-of-type {\n",
       "        vertical-align: middle;\n",
       "    }\n",
       "\n",
       "    .dataframe tbody tr th {\n",
       "        vertical-align: top;\n",
       "    }\n",
       "\n",
       "    .dataframe thead th {\n",
       "        text-align: right;\n",
       "    }\n",
       "</style>\n",
       "<table border=\"1\" class=\"dataframe\">\n",
       "  <thead>\n",
       "    <tr style=\"text-align: right;\">\n",
       "      <th></th>\n",
       "      <th>AN mean</th>\n",
       "      <th>HC mean</th>\n",
       "      <th>AN std</th>\n",
       "      <th>HC std</th>\n",
       "    </tr>\n",
       "  </thead>\n",
       "  <tbody>\n",
       "    <tr>\n",
       "      <th>T1</th>\n",
       "      <td>1.639802</td>\n",
       "      <td>3.436321</td>\n",
       "      <td>1.198488</td>\n",
       "      <td>3.065961</td>\n",
       "    </tr>\n",
       "    <tr>\n",
       "      <th>T2</th>\n",
       "      <td>2.444569</td>\n",
       "      <td>1.372438</td>\n",
       "      <td>2.155285</td>\n",
       "      <td>0.837551</td>\n",
       "    </tr>\n",
       "    <tr>\n",
       "      <th>Overall</th>\n",
       "      <td>2.042186</td>\n",
       "      <td>2.404379</td>\n",
       "      <td>1.783370</td>\n",
       "      <td>2.457743</td>\n",
       "    </tr>\n",
       "  </tbody>\n",
       "</table>\n",
       "</div>"
      ],
      "text/plain": [
       "          AN mean   HC mean    AN std    HC std\n",
       "T1       1.639802  3.436321  1.198488  3.065961\n",
       "T2       2.444569  1.372438  2.155285  0.837551\n",
       "Overall  2.042186  2.404379  1.783370  2.457743"
      ]
     },
     "execution_count": 18,
     "metadata": {},
     "output_type": "execute_result"
    }
   ],
   "source": [
    "means_std_df = pd.DataFrame(data={\n",
    "    'AN mean':  [an_t1['mean'].mean(), an_t2['mean'].mean(), pd.concat((an_t1, an_t2))['mean'].mean()],\n",
    "    'HC mean': [hc_t1['mean'].mean(), hc_t2['mean'].mean(), pd.concat((hc_t1, hc_t2))['mean'].mean()],\n",
    "    'AN std': [an_t1['mean'].std(), an_t2['mean'].std(), pd.concat((an_t1, an_t2))['mean'].std()],\n",
    "    'HC std': [hc_t1['mean'].std(), hc_t2['mean'].std(), pd.concat((hc_t1, hc_t2))['mean'].std()]\n",
    "                   }, index=['T1', 'T2', 'Overall']) \n",
    "means_std_df"
   ]
  },
  {
   "attachments": {},
   "cell_type": "markdown",
   "metadata": {},
   "source": [
    "Plot parameter estimates"
   ]
  },
  {
   "cell_type": "code",
   "execution_count": 19,
   "metadata": {},
   "outputs": [
    {
     "data": {
      "text/plain": [
       "<AxesSubplot: xlabel='time_point', ylabel='mean'>"
      ]
     },
     "execution_count": 19,
     "metadata": {},
     "output_type": "execute_result"
    },
    {
     "data": {
      "image/png": "[encoded data removed]",
      "text/plain": [
       "<Figure size 1000x800 with 1 Axes>"
      ]
     },
     "metadata": {},
     "output_type": "display_data"
    }
   ],
   "source": [
    "fig,ax = plt.subplots(1,1, figsize=(10, 8))\n",
    "pt.RainCloud(\n",
    "    x=\"time_point\", \n",
    "    y=\"mean\", \n",
    "    hue=\"group\", \n",
    "    data=parameter_estimates_df, \n",
    "    palette='Accent_r', \n",
    "    alpha=.65, \n",
    "    dodge=True, \n",
    "    scale=\"area\",\n",
    "    ax=ax,\n",
    "    width_viol=.5,\n",
    "    jitter=0,\n",
    "    pointplot = True,\n",
    "    bw=.3\n",
    "     )\n",
    "\n"
   ]
  },
  {
   "attachments": {},
   "cell_type": "markdown",
   "metadata": {},
   "source": [
    "## Linear Mixed Model\n",
    "\n",
    "Change reference level of model by changing the name of AN to participant with AN (pAN) and HC to Control"
   ]
  },
  {
   "cell_type": "code",
   "execution_count": 20,
   "metadata": {},
   "outputs": [],
   "source": [
    "regression_df = parameter_estimates_df\n",
    "regression_df['group'] = regression_df['group'].apply(lambda group: 'pAN' if group == 'AN' else 'Control')"
   ]
  },
  {
   "attachments": {},
   "cell_type": "markdown",
   "metadata": {},
   "source": [
    "define and fit the model"
   ]
  },
  {
   "cell_type": "code",
   "execution_count": 21,
   "metadata": {},
   "outputs": [
    {
     "data": {
      "text/html": [
       "<table class=\"simpletable\">\n",
       "<tr>\n",
       "       <td>Model:</td>       <td>MixedLM</td> <td>Dependent Variable:</td>   <td>mean</td>   \n",
       "</tr>\n",
       "<tr>\n",
       "  <td>No. Observations:</td>   <td>184</td>         <td>Method:</td>         <td>REML</td>   \n",
       "</tr>\n",
       "<tr>\n",
       "     <td>No. Groups:</td>      <td>92</td>          <td>Scale:</td>         <td>3.4101</td>  \n",
       "</tr>\n",
       "<tr>\n",
       "  <td>Min. group size:</td>     <td>2</td>      <td>Log-Likelihood:</td>   <td>-378.5450</td>\n",
       "</tr>\n",
       "<tr>\n",
       "  <td>Max. group size:</td>     <td>2</td>        <td>Converged:</td>         <td>Yes</td>   \n",
       "</tr>\n",
       "<tr>\n",
       "  <td>Mean group size:</td>    <td>2.0</td>            <td></td>               <td></td>     \n",
       "</tr>\n",
       "</table>\n",
       "<table class=\"simpletable\">\n",
       "<tr>\n",
       "                <td></td>                 <th>Coef.</th> <th>Std.Err.</th>    <th>z</th>   <th>P>|z|</th> <th>[0.025</th> <th>0.975]</th>\n",
       "</tr>\n",
       "<tr>\n",
       "  <th>Intercept</th>                      <td>3.436</td>   <td>0.366</td>   <td>9.383</td> <td>0.000</td>  <td>2.719</td>  <td>4.154</td>\n",
       "</tr>\n",
       "<tr>\n",
       "  <th>time_point[T.t2]</th>              <td>-2.064</td>   <td>0.503</td>  <td>-4.106</td> <td>0.000</td> <td>-3.049</td> <td>-1.079</td>\n",
       "</tr>\n",
       "<tr>\n",
       "  <th>group[T.pAN]</th>                  <td>-1.797</td>   <td>0.436</td>  <td>-4.123</td> <td>0.000</td> <td>-2.650</td> <td>-0.943</td>\n",
       "</tr>\n",
       "<tr>\n",
       "  <th>group[T.pAN]:time_point[T.t2]</th>  <td>2.869</td>   <td>0.598</td>   <td>4.798</td> <td>0.000</td>  <td>1.697</td>  <td>4.041</td>\n",
       "</tr>\n",
       "<tr>\n",
       "  <th>Group Var</th>                      <td>0.211</td>   <td>0.219</td>     <td></td>      <td></td>       <td></td>       <td></td>   \n",
       "</tr>\n",
       "</table>"
      ],
      "text/plain": [
       "<class 'statsmodels.iolib.summary2.Summary'>\n",
       "\"\"\"\n",
       "                 Mixed Linear Model Regression Results\n",
       "========================================================================\n",
       "Model:                   MixedLM      Dependent Variable:      mean     \n",
       "No. Observations:        184          Method:                  REML     \n",
       "No. Groups:              92           Scale:                   3.4101   \n",
       "Min. group size:         2            Log-Likelihood:          -378.5450\n",
       "Max. group size:         2            Converged:               Yes      \n",
       "Mean group size:         2.0                                            \n",
       "------------------------------------------------------------------------\n",
       "                              Coef.  Std.Err.   z    P>|z| [0.025 0.975]\n",
       "------------------------------------------------------------------------\n",
       "Intercept                      3.436    0.366  9.383 0.000  2.719  4.154\n",
       "time_point[T.t2]              -2.064    0.503 -4.106 0.000 -3.049 -1.079\n",
       "group[T.pAN]                  -1.797    0.436 -4.123 0.000 -2.650 -0.943\n",
       "group[T.pAN]:time_point[T.t2]  2.869    0.598  4.798 0.000  1.697  4.041\n",
       "Group Var                      0.211    0.219                           \n",
       "========================================================================\n",
       "\n",
       "\"\"\""
      ]
     },
     "execution_count": 21,
     "metadata": {},
     "output_type": "execute_result"
    }
   ],
   "source": [
    "model = smf.mixedlm(\"mean ~ time_point + group + group*time_point\", \n",
    "                    regression_df, \n",
    "                    groups=regression_df[\"sub\"]).fit()\n",
    "model.summary()"
   ]
  },
  {
   "attachments": {},
   "cell_type": "markdown",
   "metadata": {},
   "source": [
    "**Bayes comparison**\n",
    "\n",
    "Define a null model (no group just time and subject intercepts).\n",
    "\n",
    "Then calculate the bayes factor by dividing the log likelihood of each model"
   ]
  },
  {
   "cell_type": "code",
   "execution_count": 22,
   "metadata": {},
   "outputs": [],
   "source": [
    "null = smf.mixedlm(\"mean ~ time_point + sub*time_point\", \n",
    "                    regression_df, \n",
    "                    groups=regression_df[\"sub\"]).fit()"
   ]
  },
  {
   "cell_type": "code",
   "execution_count": 23,
   "metadata": {},
   "outputs": [
    {
     "data": {
      "text/plain": [
       "0.9814537888360276"
      ]
     },
     "execution_count": 23,
     "metadata": {},
     "output_type": "execute_result"
    }
   ],
   "source": [
    "bayes_factor = model.llf / null.llf\n",
    "bayes_factor"
   ]
  }
 ],
 "metadata": {
  "kernelspec": {
   "display_name": "neuroimaging",
   "language": "python",
   "name": "python3"
  },
  "language_info": {
   "codemirror_mode": {
    "name": "ipython",
    "version": 3
   },
   "file_extension": ".py",
   "mimetype": "text/x-python",
   "name": "python",
   "nbconvert_exporter": "python",
   "pygments_lexer": "ipython3",
   "version": "3.9.13"
  },
  "orig_nbformat": 4
 },
 "nbformat": 4,
 "nbformat_minor": 2
}
