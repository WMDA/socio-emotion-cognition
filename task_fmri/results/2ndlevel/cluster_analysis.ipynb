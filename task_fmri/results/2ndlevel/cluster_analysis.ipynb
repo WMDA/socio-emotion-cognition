{
 "cells": [
  {
   "attachments": {},
   "cell_type": "markdown",
   "metadata": {},
   "source": [
    "# Examine Clusters"
   ]
  },
  {
   "cell_type": "code",
   "execution_count": 1,
   "metadata": {},
   "outputs": [],
   "source": [
    "import os\n",
    "from decouple import config\n",
    "import second_level_functions as slf\n",
    "import numpy as np\n",
    "import pandas as pd\n",
    "import ptitprince as pt\n",
    "import seaborn as sns\n",
    "sns.set_style('darkgrid')\n",
    "import matplotlib.pyplot as plt\n",
    "import statsmodels.formula.api as smf"
   ]
  },
  {
   "attachments": {},
   "cell_type": "markdown",
   "metadata": {},
   "source": [
    "Change task and contrast to examine clusters"
   ]
  },
  {
   "cell_type": "code",
   "execution_count": 2,
   "metadata": {},
   "outputs": [],
   "source": [
    "task = 'happy'\n",
    "contrast = 'interaction'"
   ]
  },
  {
   "attachments": {},
   "cell_type": "markdown",
   "metadata": {},
   "source": [
    "Read in images and get parameter estimates"
   ]
  },
  {
   "cell_type": "code",
   "execution_count": 3,
   "metadata": {},
   "outputs": [],
   "source": [
    "base_dir = config(task)\n",
    "path = os.path.join(base_dir, '2ndlevel')\n",
    "copes_dir = os.path.join(base_dir, '2ndlevel', 'mixed_model')\n",
    "parameter_estimates_df = slf.get_peak_voxel(base_dir, path, copes_dir, contrast)"
   ]
  },
  {
   "attachments": {},
   "cell_type": "markdown",
   "metadata": {},
   "source": [
    "## Plot and get mean of parameter estimates\n",
    "\n",
    "Split parameter estimates by group and time point. Then get mean of each group and at in each time point"
   ]
  },
  {
   "cell_type": "code",
   "execution_count": 4,
   "metadata": {},
   "outputs": [],
   "source": [
    "group_values = {\n",
    "                'an_t1': parameter_estimates_df.loc[(parameter_estimates_df['group'] == 'AN') \n",
    "                                                      & (parameter_estimates_df['time_point'] == 't1')].iloc[:, 4:],\n",
    "                'an_t2':  parameter_estimates_df.loc[(parameter_estimates_df['group'] == 'AN') \n",
    "                                                     & (parameter_estimates_df['time_point'] == 't2')].iloc[:, 4:],\n",
    "                'hc_t1': parameter_estimates_df.loc[(parameter_estimates_df['group'] == 'HC') \n",
    "                                                    & (parameter_estimates_df['time_point'] == 't1')].iloc[:, 4:],\n",
    "                'hc_t2': parameter_estimates_df.loc[(parameter_estimates_df['group'] == 'HC') \n",
    "                                                    & (parameter_estimates_df['time_point'] == 't2')].iloc[:, 4:]\n",
    "}"
   ]
  },
  {
   "cell_type": "code",
   "execution_count": 5,
   "metadata": {},
   "outputs": [
    {
     "data": {
      "text/html": [
       "<div>\n",
       "<style scoped>\n",
       "    .dataframe tbody tr th:only-of-type {\n",
       "        vertical-align: middle;\n",
       "    }\n",
       "\n",
       "    .dataframe tbody tr th {\n",
       "        vertical-align: top;\n",
       "    }\n",
       "\n",
       "    .dataframe thead th {\n",
       "        text-align: right;\n",
       "    }\n",
       "</style>\n",
       "<table border=\"1\" class=\"dataframe\">\n",
       "  <thead>\n",
       "    <tr style=\"text-align: right;\">\n",
       "      <th></th>\n",
       "      <th>Frontal_Sup_2_L</th>\n",
       "    </tr>\n",
       "  </thead>\n",
       "  <tbody>\n",
       "    <tr>\n",
       "      <th>AN T1 mean</th>\n",
       "      <td>1.065302</td>\n",
       "    </tr>\n",
       "    <tr>\n",
       "      <th>AN T1 std</th>\n",
       "      <td>0.805804</td>\n",
       "    </tr>\n",
       "    <tr>\n",
       "      <th>HC T1 mean</th>\n",
       "      <td>1.648148</td>\n",
       "    </tr>\n",
       "    <tr>\n",
       "      <th>HC T1 std</th>\n",
       "      <td>1.741508</td>\n",
       "    </tr>\n",
       "    <tr>\n",
       "      <th>AN T2 mean</th>\n",
       "      <td>1.543054</td>\n",
       "    </tr>\n",
       "    <tr>\n",
       "      <th>AN T2 std</th>\n",
       "      <td>2.385784</td>\n",
       "    </tr>\n",
       "    <tr>\n",
       "      <th>HC T2 mean</th>\n",
       "      <td>4.173595</td>\n",
       "    </tr>\n",
       "    <tr>\n",
       "      <th>HC T2 std</th>\n",
       "      <td>5.511991</td>\n",
       "    </tr>\n",
       "    <tr>\n",
       "      <th>AN overall mean</th>\n",
       "      <td>1.304178</td>\n",
       "    </tr>\n",
       "    <tr>\n",
       "      <th>AN overall std</th>\n",
       "      <td>1.789851</td>\n",
       "    </tr>\n",
       "    <tr>\n",
       "      <th>HC overall mean</th>\n",
       "      <td>2.910872</td>\n",
       "    </tr>\n",
       "    <tr>\n",
       "      <th>HC overall std</th>\n",
       "      <td>4.244617</td>\n",
       "    </tr>\n",
       "    <tr>\n",
       "      <th>T1 overall mean</th>\n",
       "      <td>1.236355</td>\n",
       "    </tr>\n",
       "    <tr>\n",
       "      <th>T1 overall std</th>\n",
       "      <td>1.180850</td>\n",
       "    </tr>\n",
       "    <tr>\n",
       "      <th>T2 overall mean</th>\n",
       "      <td>2.315061</td>\n",
       "    </tr>\n",
       "    <tr>\n",
       "      <th>T2 overall std</th>\n",
       "      <td>3.759560</td>\n",
       "    </tr>\n",
       "  </tbody>\n",
       "</table>\n",
       "</div>"
      ],
      "text/plain": [
       "                 Frontal_Sup_2_L\n",
       "AN T1 mean              1.065302\n",
       "AN T1 std               0.805804\n",
       "HC T1 mean              1.648148\n",
       "HC T1 std               1.741508\n",
       "AN T2 mean              1.543054\n",
       "AN T2 std               2.385784\n",
       "HC T2 mean              4.173595\n",
       "HC T2 std               5.511991\n",
       "AN overall mean         1.304178\n",
       "AN overall std          1.789851\n",
       "HC overall mean         2.910872\n",
       "HC overall std          4.244617\n",
       "T1 overall mean         1.236355\n",
       "T1 overall std          1.180850\n",
       "T2 overall mean         2.315061\n",
       "T2 overall std          3.759560"
      ]
     },
     "execution_count": 5,
     "metadata": {},
     "output_type": "execute_result"
    }
   ],
   "source": [
    "means_std_df = pd.DataFrame(data={\n",
    "    'AN T1 mean':  group_values['an_t1'].mean(),\n",
    "    'AN T1 std':  group_values['an_t1'].std(),\n",
    "    'HC T1 mean': group_values['hc_t1'].mean(),\n",
    "    'HC T1 std': group_values['hc_t1'].std(),\n",
    "    'AN T2 mean': group_values['an_t2'].mean(),\n",
    "    'AN T2 std':  group_values['an_t2'].std(),\n",
    "    'HC T2 mean': group_values['hc_t2'].mean(),\n",
    "    'HC T2 std': group_values['hc_t2'].std(),\n",
    "    'AN overall mean': pd.concat((group_values['an_t1'], group_values['an_t2'])).mean(),\n",
    "    'AN overall std': pd.concat((group_values['an_t1'], group_values['an_t2'])).std(),\n",
    "    'HC overall mean': pd.concat((group_values['hc_t1'], group_values['hc_t2'])).mean(),\n",
    "    'HC overall std': pd.concat((group_values['hc_t1'], group_values['hc_t2'])).std(),\n",
    "    'T1 overall mean': pd.concat((group_values['an_t1'], group_values['hc_t1'])).mean(),\n",
    "    'T1 overall std': pd.concat((group_values['an_t1'], group_values['hc_t1'])).std(),\n",
    "    'T2 overall mean': pd.concat((group_values['hc_t2'], group_values['an_t2'])).mean(),\n",
    "    'T2 overall std': pd.concat((group_values['an_t2'], group_values['hc_t2'])).std()\n",
    "                   }).T\n",
    "means_std_df"
   ]
  },
  {
   "attachments": {},
   "cell_type": "markdown",
   "metadata": {},
   "source": [
    "Plot parameter estimates"
   ]
  },
  {
   "cell_type": "code",
   "execution_count": 6,
   "metadata": {},
   "outputs": [
    {
     "data": {
      "image/png": "[encoded data removed]",
      "text/plain": [
       "<Figure size 1000x800 with 1 Axes>"
      ]
     },
     "metadata": {},
     "output_type": "display_data"
    }
   ],
   "source": [
    "for cluster in means_std_df.columns:\n",
    "    fig,ax = plt.subplots(1,1, figsize=(10, 8))\n",
    "    pt.RainCloud(\n",
    "        x=\"time_point\", \n",
    "        y=cluster, \n",
    "        hue=\"group\", \n",
    "        data=parameter_estimates_df, \n",
    "        palette='Accent_r', \n",
    "        alpha=.65, \n",
    "        dodge=True, \n",
    "        scale=\"area\",\n",
    "        ax=ax,\n",
    "        width_viol=.5,\n",
    "        jitter=0,\n",
    "        pointplot = True,\n",
    "        bw=.3\n",
    "         )\n",
    "\n"
   ]
  },
  {
   "attachments": {},
   "cell_type": "markdown",
   "metadata": {},
   "source": [
    "## Linear Mixed Model\n",
    "\n",
    "Change reference level of model by changing the name of AN to participant with AN (pAN) and HC to Control"
   ]
  },
  {
   "cell_type": "code",
   "execution_count": 7,
   "metadata": {},
   "outputs": [],
   "source": [
    "regression_df = parameter_estimates_df\n",
    "regression_df['group'] = regression_df['group'].apply(lambda group: 'pAN' if group == 'AN' else 'Control')"
   ]
  },
  {
   "attachments": {},
   "cell_type": "markdown",
   "metadata": {},
   "source": [
    "define and fit the model"
   ]
  },
  {
   "cell_type": "code",
   "execution_count": 8,
   "metadata": {},
   "outputs": [
    {
     "name": "stdout",
     "output_type": "stream",
     "text": [
      "----------------------------------------------------------------------------------------------------\n",
      "Frontal_Sup_2_L\n"
     ]
    },
    {
     "data": {
      "text/html": [
       "<div>\n",
       "<style scoped>\n",
       "    .dataframe tbody tr th:only-of-type {\n",
       "        vertical-align: middle;\n",
       "    }\n",
       "\n",
       "    .dataframe tbody tr th {\n",
       "        vertical-align: top;\n",
       "    }\n",
       "\n",
       "    .dataframe thead th {\n",
       "        text-align: right;\n",
       "    }\n",
       "</style>\n",
       "<table border=\"1\" class=\"dataframe\">\n",
       "  <thead>\n",
       "    <tr style=\"text-align: right;\">\n",
       "      <th></th>\n",
       "      <th>Intercept</th>\n",
       "      <th>time_point[T.t2]</th>\n",
       "      <th>group[T.pAN]</th>\n",
       "      <th>group[T.pAN]:time_point[T.t2]</th>\n",
       "    </tr>\n",
       "  </thead>\n",
       "  <tbody>\n",
       "    <tr>\n",
       "      <th>params</th>\n",
       "      <td>1.648148</td>\n",
       "      <td>2.525447</td>\n",
       "      <td>-0.582846</td>\n",
       "      <td>-2.047695</td>\n",
       "    </tr>\n",
       "    <tr>\n",
       "      <th>std</th>\n",
       "      <td>0.512123</td>\n",
       "      <td>0.673816</td>\n",
       "      <td>0.609272</td>\n",
       "      <td>0.801639</td>\n",
       "    </tr>\n",
       "  </tbody>\n",
       "</table>\n",
       "</div>"
      ],
      "text/plain": [
       "        Intercept  time_point[T.t2]  group[T.pAN]  \\\n",
       "params   1.648148          2.525447     -0.582846   \n",
       "std      0.512123          0.673816      0.609272   \n",
       "\n",
       "        group[T.pAN]:time_point[T.t2]  \n",
       "params                      -2.047695  \n",
       "std                          0.801639  "
      ]
     },
     "metadata": {},
     "output_type": "display_data"
    }
   ],
   "source": [
    "import IPython.display as display\n",
    "\n",
    "for cluster in means_std_df.columns:\n",
    "\n",
    "    model = smf.mixedlm(f\"{cluster} ~ time_point + group + group*time_point\", \n",
    "                        regression_df, \n",
    "                        groups=regression_df[\"sub\"]).fit()\n",
    "    model.summary()\n",
    "    \n",
    "    summ = pd.concat((model.params.to_frame().T.rename(index={0: 'params'}), \n",
    "               model.bse_fe.to_frame().T.rename(index={0: 'std'}))).dropna(axis=1)\n",
    "    print('-'*100)\n",
    "    print(cluster)\n",
    "    display.display(summ)"
   ]
  }
 ],
 "metadata": {
  "kernelspec": {
   "display_name": "neuroimaging",
   "language": "python",
   "name": "python3"
  },
  "language_info": {
   "codemirror_mode": {
    "name": "ipython",
    "version": 3
   },
   "file_extension": ".py",
   "mimetype": "text/x-python",
   "name": "python",
   "nbconvert_exporter": "python",
   "pygments_lexer": "ipython3",
   "version": "3.9.13"
  },
  "orig_nbformat": 4
 },
 "nbformat": 4,
 "nbformat_minor": 2
}
